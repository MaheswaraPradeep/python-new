{
  "nbformat": 4,
  "nbformat_minor": 0,
  "metadata": {
    "colab": {
      "name": "Module 2.ipynb",
      "provenance": [],
      "collapsed_sections": [],
      "authorship_tag": "ABX9TyO4lNrd7hUSI7mB4WSAwHDV",
      "include_colab_link": true
    },
    "kernelspec": {
      "name": "python3",
      "display_name": "Python 3"
    },
    "language_info": {
      "name": "python"
    }
  },
  "cells": [
    {
      "cell_type": "markdown",
      "metadata": {
        "id": "view-in-github",
        "colab_type": "text"
      },
      "source": [
        "<a href=\"https://colab.research.google.com/github/MaheswaraPradeep/python-new/blob/module-2/Module_2.ipynb\" target=\"_parent\"><img src=\"https://colab.research.google.com/assets/colab-badge.svg\" alt=\"Open In Colab\"/></a>"
      ]
    },
    {
      "cell_type": "markdown",
      "source": [
        "# Create a function which accepts two inputs from the user and compute nCr"
      ],
      "metadata": {
        "id": "2wrA4mATsahI"
      }
    },
    {
      "cell_type": "code",
      "source": [
        "def ncr(n,r):\n",
        "  return(fact(n)/(fact(r)\n",
        "                *fact(n-r)))\n",
        "n=int(input(\"Enter number:\")) \n",
        "r=int(input(\"Enter a number:\"))\n",
        "def fact(n):\n",
        "  result=1\n",
        "  for i in range(2,n+1):\n",
        "    result=result*i\n",
        "  return result \n",
        "print(int(ncr(n,r)))    \n",
        "\n"
      ],
      "metadata": {
        "colab": {
          "base_uri": "https://localhost:8080/"
        },
        "id": "D8gwhGWfsinP",
        "outputId": "21239d09-a677-44e1-a3b9-c43c37d01e68"
      },
      "execution_count": null,
      "outputs": [
        {
          "output_type": "stream",
          "name": "stdout",
          "text": [
            "Enter number:5\n",
            "Enter a number:1\n",
            "5\n"
          ]
        }
      ]
    },
    {
      "cell_type": "markdown",
      "source": [
        "## Recursive function to compute GCD of 2 numbers"
      ],
      "metadata": {
        "id": "4jnFveFKSV_j"
      }
    },
    {
      "cell_type": "code",
      "source": [
        "a=int(input(\"Enter a number:\"))\n",
        "b=int(input(\"Enter a number:\"))\n",
        "if a<b:\n",
        "  min=a\n",
        "  max=b\n",
        "else:\n",
        "  max=a\n",
        "  min=b\n",
        "def gcd(max,min):\n",
        "  if min==0:\n",
        "    return max\n",
        "  else:\n",
        "    return gcd(min,max%min)\n",
        "res=gcd(max,min)    \n",
        "print(\"The gcd of the two numbers is\",res)\n",
        "\n"
      ],
      "metadata": {
        "colab": {
          "base_uri": "https://localhost:8080/"
        },
        "id": "LYULuV-lQrCA",
        "outputId": "7ecd39f5-9b33-41dc-8a06-fe51604eeb3c"
      },
      "execution_count": null,
      "outputs": [
        {
          "output_type": "stream",
          "name": "stdout",
          "text": [
            "Enter a number:5\n",
            "Enter a number:3\n",
            "The gcd of the two numbers is 1\n"
          ]
        }
      ]
    },
    {
      "cell_type": "markdown",
      "source": [
        "## Recursive function to find product of two numbers"
      ],
      "metadata": {
        "id": "gtaiTtdPZCaE"
      }
    },
    {
      "cell_type": "code",
      "source": [
        "x=int(input(\"Enter a number:\"))\n",
        "y=int(input(\"Enter a number:\"))\n",
        "def prod(x,y):\n",
        "  if x<y:\n",
        "    return prod(y,x)\n",
        "  elif (y!=0):\n",
        "    return (x+prod(x,y-1)) \n",
        "  else:\n",
        "    return 0\n",
        "res=prod(x,y)    \n",
        "print(\"Product of two numbers is\",res)\n"
      ],
      "metadata": {
        "colab": {
          "base_uri": "https://localhost:8080/"
        },
        "id": "s0thUPgoSZtP",
        "outputId": "4b7ecafa-6255-4d4b-da0a-596e9a6b35c2"
      },
      "execution_count": null,
      "outputs": [
        {
          "output_type": "stream",
          "name": "stdout",
          "text": [
            "Enter a number:32\n",
            "Enter a number:12\n",
            "Product of two numbers is 384\n"
          ]
        }
      ]
    },
    {
      "cell_type": "markdown",
      "source": [
        "## Recursive function to generate Fibonacci series"
      ],
      "metadata": {
        "id": "hZCuyk-iasZZ"
      }
    },
    {
      "cell_type": "code",
      "source": [
        "p=int(input(\"Enter a number:\"))\n",
        "def feb(p):\n",
        "  if p==0:\n",
        "    return p\n",
        "  elif p==1:\n",
        "    return p\n",
        "  else:\n",
        "    return feb(p-1)+feb(p-2)\n",
        "for i in range (p):\n",
        "  print(feb(i))    \n",
        "\n"
      ],
      "metadata": {
        "colab": {
          "base_uri": "https://localhost:8080/"
        },
        "id": "V3U2qUM3ZEmN",
        "outputId": "2a40130c-7c03-4270-f8db-e98dbd0df07f"
      },
      "execution_count": null,
      "outputs": [
        {
          "output_type": "stream",
          "name": "stdout",
          "text": [
            "Enter a number:7\n",
            "0\n",
            "1\n",
            "1\n",
            "2\n",
            "3\n",
            "5\n",
            "8\n"
          ]
        }
      ]
    },
    {
      "cell_type": "markdown",
      "source": [
        "## Program to print a specified list after removing the 0th, 4th and 5th elements. "
      ],
      "metadata": {
        "id": "dw6uYrf9mNhi"
      }
    },
    {
      "cell_type": "code",
      "execution_count": null,
      "metadata": {
        "colab": {
          "base_uri": "https://localhost:8080/"
        },
        "id": "jkkofffrlSRw",
        "outputId": "fcb50173-8fa3-44d2-a361-d68c1b9e91ae"
      },
      "outputs": [
        {
          "output_type": "stream",
          "name": "stdout",
          "text": [
            "['Green', 'White', 'Black']\n"
          ]
        }
      ],
      "source": [
        "pradeep=['Red', 'Green', 'White', 'Black', 'Pink', 'Yellow']\n",
        "pradeep.remove('Red')\n",
        "del pradeep[3:5]\n",
        "print(pradeep)"
      ]
    },
    {
      "cell_type": "markdown",
      "source": [
        "## Program to get the difference between the two lists."
      ],
      "metadata": {
        "id": "LvdgJpVIoT_7"
      }
    },
    {
      "cell_type": "code",
      "source": [
        "pradeep=[\"Hi\",123,321,44,54]\n",
        "you=[123,321,9032]\n",
        "a=set(pradeep)\n",
        "b=set(you)\n",
        "c=a.symmetric_difference(b)\n",
        "print(list(c))"
      ],
      "metadata": {
        "colab": {
          "base_uri": "https://localhost:8080/"
        },
        "id": "wTMil1-VmQ17",
        "outputId": "3970ded8-960b-4164-8bc0-9561392af08e"
      },
      "execution_count": null,
      "outputs": [
        {
          "output_type": "stream",
          "name": "stdout",
          "text": [
            "[9032, 'Hi', 44, 54]\n"
          ]
        }
      ]
    },
    {
      "cell_type": "markdown",
      "source": [
        "## Program to find the second smallest number and second largest number in a list."
      ],
      "metadata": {
        "id": "25VeQfGcyKRd"
      }
    },
    {
      "cell_type": "code",
      "source": [
        "a=[23,43,433,64,87]\n",
        "a.sort()\n",
        "print(a)\n",
        "print(\"The second largest element in the list is:\",a[-2])\n",
        "print(\"The second smallest element in the list is:\",a[1])"
      ],
      "metadata": {
        "colab": {
          "base_uri": "https://localhost:8080/"
        },
        "id": "WnmtEkIYwzEf",
        "outputId": "0713a26d-e675-4baf-981c-cc8830d61919"
      },
      "execution_count": null,
      "outputs": [
        {
          "output_type": "stream",
          "name": "stdout",
          "text": [
            "[23, 43, 64, 87, 433]\n",
            "The second largest element in the list is: 87\n",
            "The second smallest element in the list is: 43\n"
          ]
        }
      ]
    },
    {
      "cell_type": "markdown",
      "source": [
        "# Given a list of numbers of list, write a Python program to create a list of tuples having first element as the number and second element as the square of the number"
      ],
      "metadata": {
        "id": "sM97Gb2AtNVi"
      }
    },
    {
      "cell_type": "code",
      "source": [
        "pradeep=[21,22,25,30,45]\n",
        "print(pradeep)\n",
        "print(\"The list of tuples is:\")\n",
        "res=[(x,pow(x,2)) for x in pradeep ]\n",
        "print(res)"
      ],
      "metadata": {
        "id": "hZpy3_m2yqvR",
        "colab": {
          "base_uri": "https://localhost:8080/"
        },
        "outputId": "d20759a1-d86c-4fe6-e398-6dd11ac12c30"
      },
      "execution_count": null,
      "outputs": [
        {
          "output_type": "stream",
          "name": "stdout",
          "text": [
            "[21, 22, 25, 30, 45]\n",
            "The given list of tuples is:\n",
            "[(21, 441), (22, 484), (25, 625), (30, 900), (45, 2025)]\n"
          ]
        }
      ]
    },
    {
      "cell_type": "markdown",
      "source": [
        "## Given list of tuples, remove all the tuples with length K"
      ],
      "metadata": {
        "id": "ODgF1lqow3sD"
      }
    },
    {
      "cell_type": "code",
      "source": [
        "pradeep=[(4,5),(4,),(8,6,7),(1,),(3,4,6,7)]\n",
        "print(pradeep)\n",
        "k=2\n",
        "print(k)\n",
        "you=[x for x in pradeep if len(x) !=k]\n",
        "print(you)"
      ],
      "metadata": {
        "id": "s0WDRuXMOEGP"
      },
      "execution_count": null,
      "outputs": []
    },
    {
      "cell_type": "markdown",
      "source": [
        "## Program to generate and print a dictionary that contains a number (between 1 and n) in the form (x, x*x)"
      ],
      "metadata": {
        "id": "T9rIsEmDzocb"
      }
    },
    {
      "cell_type": "code",
      "source": [
        "n=int(input(\"Enter a number\"))\n",
        "h=dict()\n",
        "for x in range(1,n+1):\n",
        "  h[x]=x*x\n",
        "print(h)  "
      ],
      "metadata": {
        "colab": {
          "base_uri": "https://localhost:8080/"
        },
        "id": "7gtXKMTSw9VE",
        "outputId": "4db5a3c0-3208-47cb-a5b8-6cc15b957c29"
      },
      "execution_count": null,
      "outputs": [
        {
          "output_type": "stream",
          "name": "stdout",
          "text": [
            "Enter a number12\n",
            "{1: 1, 2: 4, 3: 9, 4: 16, 5: 25, 6: 36, 7: 49, 8: 64, 9: 81, 10: 100, 11: 121, 12: 144}\n"
          ]
        }
      ]
    },
    {
      "cell_type": "markdown",
      "source": [
        "## Program to remove a key from a dictionary"
      ],
      "metadata": {
        "id": "4QIG6bIU0klq"
      }
    },
    {
      "cell_type": "code",
      "source": [
        "pradeep={\n",
        "    \"song\":\"Arabic kuthu\",\n",
        "    \"movie\":\"Beast\",\n",
        "    \"singers\":\"Anirudh\",\n",
        "    \"Release date\":2022\n",
        "}\n",
        "pradeep.pop(\"singers\")\n",
        "print(pradeep)"
      ],
      "metadata": {
        "colab": {
          "base_uri": "https://localhost:8080/"
        },
        "id": "mrvJ4DNPztVG",
        "outputId": "c69acdff-7ca2-40e3-a86d-1c38e5dd15f6"
      },
      "execution_count": null,
      "outputs": [
        {
          "output_type": "stream",
          "name": "stdout",
          "text": [
            "{'song': 'Arabic kuthu', 'movie': 'Beast', 'Release date': 2022}\n"
          ]
        }
      ]
    },
    {
      "cell_type": "markdown",
      "source": [
        "## Program to get the maximum and minimum value in a dictionary."
      ],
      "metadata": {
        "id": "tul5yR0zi0vO"
      }
    },
    {
      "cell_type": "code",
      "source": [
        "pradeep={\n",
        "    \"a\":12,\n",
        "    \"b\":13,\n",
        "    \"c\":23,\n",
        "    \"d\":4\n",
        "}\n",
        "maxim_value=max(pradeep,key=pradeep.get)\n",
        "min_value=min(pradeep,key=pradeep.get)\n",
        "print(\"The maximum value in the dictionary is\")\n",
        "print(maxim_value,\":\",pradeep[maxim_value])\n",
        "print(\"The minimum value in the dictionary is\")\n",
        "print(min_value,\":\",pradeep[min_value])"
      ],
      "metadata": {
        "colab": {
          "base_uri": "https://localhost:8080/"
        },
        "id": "ieu45pFbgd_h",
        "outputId": "4cb7c2d0-c27b-437b-9ac3-26693cf172f6"
      },
      "execution_count": null,
      "outputs": [
        {
          "output_type": "stream",
          "name": "stdout",
          "text": [
            "The maximum value in the dictionary is\n",
            "c : 23\n",
            "The minimum value in the dictionary is\n",
            "d : 4\n"
          ]
        }
      ]
    },
    {
      "cell_type": "markdown",
      "source": [
        "### Program to perform operations on string using unicodes ,splitting of string,accessing elements of string using locations"
      ],
      "metadata": {
        "id": "_IB8pYboD0dE"
      }
    },
    {
      "cell_type": "code",
      "source": [
        "pradeep=input(\"Enter a string:\")\n",
        "c=pradeep.encode()\n",
        "print(c)\n",
        "a=pradeep.split()\n",
        "print(a)\n",
        "print(pradeep[3:10])"
      ],
      "metadata": {
        "colab": {
          "base_uri": "https://localhost:8080/"
        },
        "id": "Mb_WPP6t0m3b",
        "outputId": "0ba52569-6691-490f-dff9-ba1f9ead0adc"
      },
      "execution_count": null,
      "outputs": [
        {
          "output_type": "stream",
          "name": "stdout",
          "text": [
            "Enter a string:Hello sir\n",
            "b'Hello sir'\n",
            "['Hello', 'sir']\n",
            "lo sir\n"
          ]
        }
      ]
    },
    {
      "cell_type": "markdown",
      "source": [
        "## Program for Counting occurrence of a certain element in a string, getting indexes that have matching elements"
      ],
      "metadata": {
        "id": "XQaEkTqwGYei"
      }
    },
    {
      "cell_type": "code",
      "source": [
        "a=\"Rabbit\"\n",
        "print(\"In rabbit \\\"b\\\" has repeated\",a.count(\"b\"),\"times\")\n",
        "x=\"I have to go to a doctor and get myself checked\"\n",
        "print(\"In the above sentence \\\"to\\\" has repeated\",x.count(\"to\"),\"times\")"
      ],
      "metadata": {
        "colab": {
          "base_uri": "https://localhost:8080/"
        },
        "id": "pWMii13ZD-jO",
        "outputId": "a20524e2-5c2e-457d-dadd-1e133cce5f26"
      },
      "execution_count": null,
      "outputs": [
        {
          "output_type": "stream",
          "name": "stdout",
          "text": [
            "In rabbit \"b\" has repeated 2 times\n",
            "In the above sentence \"to\" has repeated 3 times\n"
          ]
        }
      ]
    },
    {
      "cell_type": "markdown",
      "source": [
        "## Program for replacing one substring by another"
      ],
      "metadata": {
        "id": "R510MIbwG0tb"
      }
    },
    {
      "cell_type": "code",
      "source": [
        "pradeep=\"Rabbit\"\n",
        "print(pradeep.replace(\"bb\",\"cc\"))"
      ],
      "metadata": {
        "colab": {
          "base_uri": "https://localhost:8080/"
        },
        "id": "YRP_aldsGeir",
        "outputId": "be73ce9c-7de3-4017-b692-caaf0166385d"
      },
      "execution_count": null,
      "outputs": [
        {
          "output_type": "stream",
          "name": "stdout",
          "text": [
            "Raccit\n"
          ]
        }
      ]
    },
    {
      "cell_type": "markdown",
      "source": [
        "# Program to Acronym generator for any user input"
      ],
      "metadata": {
        "id": "GXVoXUogI6Vb"
      }
    },
    {
      "cell_type": "code",
      "source": [
        "a=\"Random Access Memory\"\n",
        "acr=\"\"\n",
        "for x in a:\n",
        "  if x.isupper():\n",
        "    acr=acr+x\n",
        "print(acr)   "
      ],
      "metadata": {
        "colab": {
          "base_uri": "https://localhost:8080/"
        },
        "id": "AAFDlW45G4P0",
        "outputId": "20470eb3-7949-4a60-df82-2851031687b0"
      },
      "execution_count": null,
      "outputs": [
        {
          "output_type": "stream",
          "name": "stdout",
          "text": [
            "RAM\n"
          ]
        }
      ]
    },
    {
      "cell_type": "markdown",
      "source": [
        "## Python function that accepts a string and calculates the number of uppercase letters and lowercase letters"
      ],
      "metadata": {
        "id": "o1pIWhjONRSh"
      }
    },
    {
      "cell_type": "code",
      "source": [
        "a=\"Rise Roar Revolt\"\n",
        "upp=0\n",
        "low=0\n",
        "\n",
        "for x in a:\n",
        "  if x.isupper():\n",
        "    upp=upp+1 \n",
        "  elif x.islower():\n",
        "    low=low+1\n",
        "  else:\n",
        "    pass   \n",
        "print(\"No of upper case letters are:\",upp)   \n",
        "print(\"No of lower case letters are:\",low)  "
      ],
      "metadata": {
        "colab": {
          "base_uri": "https://localhost:8080/"
        },
        "id": "9tWnowpoJIr3",
        "outputId": "a30d823d-192f-41e3-da0c-7fd90f1396d0"
      },
      "execution_count": null,
      "outputs": [
        {
          "output_type": "stream",
          "name": "stdout",
          "text": [
            "No of upper case letters are: 3\n",
            "No of lower case letters are: 11\n"
          ]
        }
      ]
    },
    {
      "cell_type": "markdown",
      "source": [
        "## Program to count the number of strings where the string length is 2 or more and the first and last character are same from a given list of strings"
      ],
      "metadata": {
        "id": "CbbphTxElypX"
      }
    },
    {
      "cell_type": "code",
      "source": [
        "pradeep= ['abc', 'xyz', 'aba', '1221'] \n",
        "count=0\n",
        "for x in pradeep:\n",
        "  if len(x)>1 and x[0]==x[-1]:\n",
        "    print(\"The wanted strings are:\",x)\n",
        "    count=count+1\n",
        "print(\"The number of strings with given conditions are:\",count)"
      ],
      "metadata": {
        "colab": {
          "base_uri": "https://localhost:8080/"
        },
        "id": "LzUETcamMrHH",
        "outputId": "ac3a0c73-df25-40d5-bb65-3594f75cd18c"
      },
      "execution_count": null,
      "outputs": [
        {
          "output_type": "stream",
          "name": "stdout",
          "text": [
            "The wanted strings are: aba\n",
            "The wanted strings are: 1221\n",
            "The number of strings with given conditions are: 2\n"
          ]
        }
      ]
    }
  ]
}