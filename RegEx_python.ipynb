{
  "nbformat": 4,
  "nbformat_minor": 0,
  "metadata": {
    "colab": {
      "name": "RegEx python.ipynb",
      "provenance": [],
      "collapsed_sections": [],
      "authorship_tag": "ABX9TyM0gbH2J9PYV3ZS+/WB32if",
      "include_colab_link": true
    },
    "kernelspec": {
      "name": "python3",
      "display_name": "Python 3"
    },
    "language_info": {
      "name": "python"
    }
  },
  "cells": [
    {
      "cell_type": "markdown",
      "metadata": {
        "id": "view-in-github",
        "colab_type": "text"
      },
      "source": [
        "<a href=\"https://colab.research.google.com/github/MaheswaraPradeep/python-new/blob/module-5/RegEx_python.ipynb\" target=\"_parent\"><img src=\"https://colab.research.google.com/assets/colab-badge.svg\" alt=\"Open In Colab\"/></a>"
      ]
    },
    {
      "cell_type": "code",
      "execution_count": null,
      "metadata": {
        "colab": {
          "base_uri": "https://localhost:8080/"
        },
        "id": "wPbruq-5JYh2",
        "outputId": "192ff967-4d92-4de7-dbbf-79909f648307"
      },
      "outputs": [
        {
          "output_type": "stream",
          "name": "stdout",
          "text": [
            "Yes we have a match!\n"
          ]
        }
      ],
      "source": [
        "import re\n",
        "text=\"Hi I am Pradeep. I am going to major movie. The movie is very nice\"\n",
        "p=re.search(\"^Hi.*nice$\",text)\n",
        "if p:\n",
        "  print(\"Yes we have a match!\")\n",
        "else:\n",
        "  print(\"No match\")  "
      ]
    },
    {
      "cell_type": "code",
      "source": [
        "import re\n",
        "text=\"Hi I am Pradeep. I am going to major movie. The movie is very nice. I also watched KGF and RRR movies also. I like KGF voilence voilence voilence dialogue.\"\n",
        "p=re.findall(\"KGF\",text)\n",
        "print(p)"
      ],
      "metadata": {
        "colab": {
          "base_uri": "https://localhost:8080/"
        },
        "id": "EYXe_U25LfH0",
        "outputId": "f4c5407d-78bc-445a-c9b7-7caf4792ca9c"
      },
      "execution_count": null,
      "outputs": [
        {
          "output_type": "stream",
          "name": "stdout",
          "text": [
            "['KGF', 'KGF']\n"
          ]
        }
      ]
    },
    {
      "cell_type": "code",
      "source": [
        "import re\n",
        "text=\"Meeroka 10,000$ appu isthe masters lo top score chestha.\"\n",
        "p=re.findall(\"\\d\",text)\n",
        "print(p)"
      ],
      "metadata": {
        "colab": {
          "base_uri": "https://localhost:8080/"
        },
        "id": "7pTfB3B_Mre1",
        "outputId": "88f9a66d-38fc-4443-ac7a-bba942721e58"
      },
      "execution_count": null,
      "outputs": [
        {
          "output_type": "stream",
          "name": "stdout",
          "text": [
            "['1', '0', '0', '0', '0']\n"
          ]
        }
      ]
    },
    {
      "cell_type": "code",
      "source": [
        "import re\n",
        "text=\"Meeroka 10,000$ appu isthe masters lo top score chestha.\"\n",
        "p=re.findall(\"\\d\",text)\n",
        "print(p)"
      ],
      "metadata": {
        "colab": {
          "base_uri": "https://localhost:8080/"
        },
        "id": "2aRzs9JxN31t",
        "outputId": "74c0265e-1ef3-4868-e700-08674a1ebfb0"
      },
      "execution_count": null,
      "outputs": [
        {
          "output_type": "stream",
          "name": "stdout",
          "text": [
            "['1', '0', '0', '0', '0']\n"
          ]
        }
      ]
    },
    {
      "cell_type": "code",
      "source": [
        "import re\n",
        "text=\"Hi I am Pradeep. I am going to major movie. The movie is very nice. I also watched KGF and RRR movies also. I like KGF voilence voilence voilence dialogue.\"\n",
        "p=re.findall(\"vo.....e\",text)\n",
        "print(p)"
      ],
      "metadata": {
        "colab": {
          "base_uri": "https://localhost:8080/"
        },
        "id": "BM5VX411OFeE",
        "outputId": "1109080a-68d0-4395-ff3d-b997254ab1bd"
      },
      "execution_count": null,
      "outputs": [
        {
          "output_type": "stream",
          "name": "stdout",
          "text": [
            "['voilence', 'voilence', 'voilence']\n"
          ]
        }
      ]
    },
    {
      "cell_type": "code",
      "source": [
        "import re\n",
        "text=\"Hi I am Pradeep. I am going to major movie. The movie is very nice. I also watched KGF and RRR movies also. I like KGF voilence voilence voilence dialogue.\"\n",
        "p=re.findall(\"^KGF\",text)\n",
        "if p:\n",
        "  print(\"Yes The string starts with KGF\")\n",
        "else:\n",
        "  print(\"No match\")  "
      ],
      "metadata": {
        "colab": {
          "base_uri": "https://localhost:8080/"
        },
        "id": "4fkslC7BOgz8",
        "outputId": "94b894f6-a3d1-4090-a283-0518d2af521a"
      },
      "execution_count": null,
      "outputs": [
        {
          "output_type": "stream",
          "name": "stdout",
          "text": [
            "No match\n"
          ]
        }
      ]
    },
    {
      "cell_type": "code",
      "source": [
        "import re\n",
        "text=\"Hi I am Pradeep. I am going to major movie. The movie is very nice. I also watched KGF and RRR movies also. I like KGF voilence voilence voilence dialogue\"\n",
        "p=re.findall(\"dialogue$\",text)\n",
        "if p:\n",
        "  print(\"Yes The string ends with dialogue\")\n",
        "else:\n",
        "  print(\"No match\")  "
      ],
      "metadata": {
        "colab": {
          "base_uri": "https://localhost:8080/"
        },
        "id": "44YnYzd5O1wt",
        "outputId": "18581796-8471-4392-d785-526e1788e509"
      },
      "execution_count": null,
      "outputs": [
        {
          "output_type": "stream",
          "name": "stdout",
          "text": [
            "Yes The string ends with dialogue\n"
          ]
        }
      ]
    },
    {
      "cell_type": "code",
      "source": [
        "import re\n",
        "text=\"Hi I am Pradeep. I am going to major movie. The movie is very nice. I also watched KGF and RRR movies also. I like KGF voilence voilence voilence dialogue.\"\n",
        "p=re.findall(\"ma.*r\",text)\n",
        "print(p)"
      ],
      "metadata": {
        "colab": {
          "base_uri": "https://localhost:8080/"
        },
        "id": "7me3qRWpPO5D",
        "outputId": "f0e6ebf7-37bc-4b8b-9f43-5742a4a90bdc"
      },
      "execution_count": null,
      "outputs": [
        {
          "output_type": "stream",
          "name": "stdout",
          "text": [
            "['major movie. The movie is ver']\n"
          ]
        }
      ]
    },
    {
      "cell_type": "code",
      "source": [
        "import re\n",
        "text=\"The life of Maj. Sandeep Unnikrishnan, who fought against terrorists and was killed in action during the 2008 attacks at the Taj Palace Hotel in Mumbai, India\"\n",
        "p=re.findall(\"ag.+r\",text)\n",
        "print(p)"
      ],
      "metadata": {
        "colab": {
          "base_uri": "https://localhost:8080/"
        },
        "id": "T4lsbhosPsCO",
        "outputId": "4be179f6-5c47-45bf-c39c-554017edac72"
      },
      "execution_count": null,
      "outputs": [
        {
          "output_type": "stream",
          "name": "stdout",
          "text": [
            "['against terrorists and was killed in action dur']\n"
          ]
        }
      ]
    },
    {
      "cell_type": "code",
      "source": [
        "import re\n",
        "text=\"The life of Maj. Sandeep Unnikrishnan, who fought against terrorists and was killed in action during the 2008 attacks at the Taj Palace Hotel in Mumbai, India\"\n",
        "p=re.findall(\"wh.?o\",text)\n",
        "print(p)"
      ],
      "metadata": {
        "colab": {
          "base_uri": "https://localhost:8080/"
        },
        "id": "tNKtYB0iPw_0",
        "outputId": "6dfdbc6f-bf17-458e-ed28-7cdb921da771"
      },
      "execution_count": null,
      "outputs": [
        {
          "output_type": "stream",
          "name": "stdout",
          "text": [
            "['who']\n"
          ]
        }
      ]
    },
    {
      "cell_type": "code",
      "source": [
        "import re\n",
        "text=\"The life of Maj. Sandeep Unnikrishnan, who fought against terrorists and was killed in action during the 2008 attacks at the Taj Palace Hotel in Mumbai, India\"\n",
        "p=re.findall(\"ag.{4}t\",text)\n",
        "print(p)"
      ],
      "metadata": {
        "colab": {
          "base_uri": "https://localhost:8080/"
        },
        "id": "yI80KDl3RbO-",
        "outputId": "4987180b-a945-42db-f939-d3409195a398"
      },
      "execution_count": null,
      "outputs": [
        {
          "output_type": "stream",
          "name": "stdout",
          "text": [
            "['against']\n"
          ]
        }
      ]
    },
    {
      "cell_type": "code",
      "source": [
        "import re\n",
        "text=\"\"\"The life of Maj. Sandeep Unnikrishnan, who fought against terrorists and was killed in action during the 2008 attacks at the Taj Palace Hotel in Mumbai, India.\n",
        "Adivi sesh is the hero\"\"\"\n",
        "p=re.findall(\"Sandeep|Adivi\",text)\n",
        "print(p)\n",
        "if p:\n",
        "  print(\"Yes we have amatch\")\n",
        "else:\n",
        "  print(\"No match\")  "
      ],
      "metadata": {
        "colab": {
          "base_uri": "https://localhost:8080/"
        },
        "id": "YKJbBD0TRpmV",
        "outputId": "c93f3a27-797a-45ff-bf20-c77dac1a5d4e"
      },
      "execution_count": null,
      "outputs": [
        {
          "output_type": "stream",
          "name": "stdout",
          "text": [
            "['Sandeep', 'Adivi']\n",
            "Yes we have amatch\n"
          ]
        }
      ]
    },
    {
      "cell_type": "markdown",
      "source": [
        "## Findall function"
      ],
      "metadata": {
        "id": "_zBDTQRr2vyX"
      }
    },
    {
      "cell_type": "code",
      "source": [
        "import re\n",
        "text=\"\"\"The blood-soaked land of Kolar Gold Fields has a new overlord now, Rocky, whose name strikes fear in the heart of his foes.\n",
        " His allies look up to him as their Savior, the government sees him as a threat, and his enemies are clamouring for revenge.\"\"\"\n",
        "p=re.findall(\"his\",text)\n",
        "print(p)"
      ],
      "metadata": {
        "colab": {
          "base_uri": "https://localhost:8080/"
        },
        "id": "9aTtC89ITA7u",
        "outputId": "6e9ef5b9-42f9-4a4e-e6ae-8c0d2488a455"
      },
      "execution_count": null,
      "outputs": [
        {
          "output_type": "stream",
          "name": "stdout",
          "text": [
            "['his', 'his']\n"
          ]
        }
      ]
    },
    {
      "cell_type": "code",
      "source": [
        "import re\n",
        "text=\"\"\"The blood-soaked land of Kolar Gold Fields has a new overlord now, Rocky, whose name strikes fear in the heart of his foes.\n",
        " His allies look up to him as their Savior, the government sees him as a threat, and his enemies are clamouring for revenge.\"\"\"\n",
        "p=re.findall(\"rrr\",text)\n",
        "print(p)"
      ],
      "metadata": {
        "colab": {
          "base_uri": "https://localhost:8080/"
        },
        "id": "gmqJXihHUISg",
        "outputId": "bb6ba75f-ba4c-44c4-92f7-cd6a33fc49a1"
      },
      "execution_count": null,
      "outputs": [
        {
          "output_type": "stream",
          "name": "stdout",
          "text": [
            "[]\n"
          ]
        }
      ]
    },
    {
      "cell_type": "markdown",
      "source": [
        "## search ()"
      ],
      "metadata": {
        "id": "_VKFKpF020ma"
      }
    },
    {
      "cell_type": "code",
      "source": [
        "import re\n",
        "text=\"\"\"The blood-soaked land of Kolar Gold Fields has a new overlord now, Rocky, whose name strikes fear in the heart of his foes.\n",
        " His allies look up to him as their Savior, the government sees him as a threat, and his enemies are clamouring for revenge.\"\"\"\n",
        "p=re.search(\"\\s\",text)\n",
        "print(\"The first white-space character is located in position:\", p.start())"
      ],
      "metadata": {
        "colab": {
          "base_uri": "https://localhost:8080/"
        },
        "id": "E-ZxGxaxULCl",
        "outputId": "e95a6850-33f7-4940-9b68-917b39d30e3c"
      },
      "execution_count": null,
      "outputs": [
        {
          "output_type": "stream",
          "name": "stdout",
          "text": [
            "The first white-space character is located in position: 3\n"
          ]
        }
      ]
    },
    {
      "cell_type": "code",
      "source": [
        "import re\n",
        "text=\"\"\"The blood-soaked land of Kolar Gold Fields has a new overlord now, Rocky, whose name strikes fear in the heart of his foes.\n",
        " His allies look up to him as their Savior, the government sees him as a threat, and his enemies are clamouring for revenge.\"\"\"\n",
        "p=re.search(\"radhe\",text)\n",
        "print(p)"
      ],
      "metadata": {
        "colab": {
          "base_uri": "https://localhost:8080/"
        },
        "id": "pw_HQgyPUtYN",
        "outputId": "540b6c72-860d-4ef1-e65e-c41f90759e23"
      },
      "execution_count": null,
      "outputs": [
        {
          "output_type": "stream",
          "name": "stdout",
          "text": [
            "None\n"
          ]
        }
      ]
    },
    {
      "cell_type": "markdown",
      "source": [
        "## Split()"
      ],
      "metadata": {
        "id": "g52Kn7rI24BN"
      }
    },
    {
      "cell_type": "code",
      "source": [
        "import re\n",
        "text=\"Hi I am Pradeep. I am going to major movie. The movie is very nice. I also watched KGF and RRR movies also. I like KGF voilence voilence voilence dialogue.\"\n",
        "p=re.split(\"\\s\",text)\n",
        "print(p)"
      ],
      "metadata": {
        "colab": {
          "base_uri": "https://localhost:8080/"
        },
        "id": "retkDPepU0nN",
        "outputId": "b525de0b-a648-48df-a754-07e0eedb3021"
      },
      "execution_count": null,
      "outputs": [
        {
          "output_type": "stream",
          "name": "stdout",
          "text": [
            "['Hi', 'I', 'am', 'Pradeep.', 'I', 'am', 'going', 'to', 'major', 'movie.', 'The', 'movie', 'is', 'very', 'nice.', 'I', 'also', 'watched', 'KGF', 'and', 'RRR', 'movies', 'also.', 'I', 'like', 'KGF', 'voilence', 'voilence', 'voilence', 'dialogue.']\n"
          ]
        }
      ]
    },
    {
      "cell_type": "code",
      "source": [
        "import re\n",
        "text=\"Hi I am Pradeep. I am going to major movie. The movie is very nice. I also watched KGF and RRR movies also. I like KGF voilence voilence voilence dialogue.\"\n",
        "p=re.split(\"\\s\",text,1)\n",
        "print(p)"
      ],
      "metadata": {
        "colab": {
          "base_uri": "https://localhost:8080/"
        },
        "id": "MqAJo-OT0L6J",
        "outputId": "7c886170-1832-4bdc-c25f-d7345ad96b7c"
      },
      "execution_count": null,
      "outputs": [
        {
          "output_type": "stream",
          "name": "stdout",
          "text": [
            "['Hi', 'I am Pradeep. I am going to major movie. The movie is very nice. I also watched KGF and RRR movies also. I like KGF voilence voilence voilence dialogue.']\n"
          ]
        }
      ]
    },
    {
      "cell_type": "markdown",
      "source": [
        "## Sub()"
      ],
      "metadata": {
        "id": "LFpxpY6k27vv"
      }
    },
    {
      "cell_type": "code",
      "source": [
        "import re\n",
        "text=\"Hi I am Pradeep. I am going to major movie. The movie is very nice. I also watched KGF and RRR movies also. I like KGF voilence voilence voilence dialogue.\"\n",
        "p=re.sub(\"\\s\",\"p\",text)\n",
        "print(p)"
      ],
      "metadata": {
        "colab": {
          "base_uri": "https://localhost:8080/"
        },
        "id": "jYIcFAet0_Bs",
        "outputId": "0ac72ae9-4b1b-4fd1-961e-5aae839045b6"
      },
      "execution_count": null,
      "outputs": [
        {
          "output_type": "stream",
          "name": "stdout",
          "text": [
            "HipIpampPradeep.pIpampgoingptopmajorpmovie.pThepmoviepispverypnice.pIpalsopwatchedpKGFpandpRRRpmoviespalso.pIplikepKGFpvoilencepvoilencepvoilencepdialogue.\n"
          ]
        }
      ]
    },
    {
      "cell_type": "code",
      "source": [
        "import re\n",
        "text=\"Hi I am Pradeep. I am going to major movie. The movie is very nice. I also watched KGF and RRR movies also. I like KGF voilence voilence voilence dialogue.\"\n",
        "p=re.sub(\"\\s\",\"p\",text,3)\n",
        "print(p)"
      ],
      "metadata": {
        "colab": {
          "base_uri": "https://localhost:8080/"
        },
        "id": "IlKry21u1Ozr",
        "outputId": "a1e9f982-bccb-4e57-d45a-adbbd4fcf86a"
      },
      "execution_count": null,
      "outputs": [
        {
          "output_type": "stream",
          "name": "stdout",
          "text": [
            "HipIpampPradeep. I am going to major movie. The movie is very nice. I also watched KGF and RRR movies also. I like KGF voilence voilence voilence dialogue.\n"
          ]
        }
      ]
    },
    {
      "cell_type": "markdown",
      "source": [
        "## Special Sequences"
      ],
      "metadata": {
        "id": "1N96scO42kHI"
      }
    },
    {
      "cell_type": "code",
      "source": [
        "import re\n",
        "text=\"\"\"Kabir and Naina meet during a trekking trip where she falls in love with him but refrains from expressing it.\n",
        " They soon drift apart but end up meeting at a friend's wedding.\"\"\"\n",
        "p=re.findall(\"\\AKabir\",text)\n",
        "print(p)\n",
        "if p:\n",
        "  print(\"Yes we have a match\")\n",
        "else:\n",
        "  print(\"No match\")  "
      ],
      "metadata": {
        "colab": {
          "base_uri": "https://localhost:8080/"
        },
        "id": "786jTobv1g30",
        "outputId": "329c42a8-1d76-4d0c-8fd8-cb143ae5079d"
      },
      "execution_count": null,
      "outputs": [
        {
          "output_type": "stream",
          "name": "stdout",
          "text": [
            "['Kabir']\n",
            "Yes we have a match\n"
          ]
        }
      ]
    },
    {
      "cell_type": "code",
      "source": [
        "import re\n",
        "text=\"\"\"Kabir and Naina meet during a trekking trip where she falls in love with him but refrains from expressing it.\n",
        " They soon drift apart but end up meeting at a friend's wedding\"\"\"\n",
        "p=re.findall(r\"ing\\b\",text)\n",
        "print(p)\n",
        "if p:\n",
        "  print(\"Yes we have a match\")\n",
        "else:\n",
        "  print(\"No match\")  "
      ],
      "metadata": {
        "colab": {
          "base_uri": "https://localhost:8080/"
        },
        "id": "CYqWmWRd4Q_8",
        "outputId": "026bdcbd-2f89-45d9-bcd1-2c634c26662f"
      },
      "execution_count": 5,
      "outputs": [
        {
          "output_type": "stream",
          "name": "stdout",
          "text": [
            "['ing', 'ing', 'ing', 'ing', 'ing']\n",
            "Yes we have a match\n"
          ]
        }
      ]
    },
    {
      "cell_type": "code",
      "source": [
        "import re\n",
        "text=\"\"\"Kabir and Naina meet during a trekking trip where she falls in love with him but refrains from expressing it.\n",
        " They soon drift apart but end up meeting at a friend's wedding.\"\"\"\n",
        "p=re.findall(r\"\\btr\",text)\n",
        "print(p)\n",
        "if p:\n",
        "  print(\"Yes we have a match\")\n",
        "else:\n",
        "  print(\"No match\")  "
      ],
      "metadata": {
        "colab": {
          "base_uri": "https://localhost:8080/"
        },
        "id": "KdJmtGVa42JD",
        "outputId": "7498c29e-9492-4629-ed4f-b57a732024a9"
      },
      "execution_count": 11,
      "outputs": [
        {
          "output_type": "stream",
          "name": "stdout",
          "text": [
            "['tr', 'tr']\n",
            "Yes we have a match\n"
          ]
        }
      ]
    }
  ]
}