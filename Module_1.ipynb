{
  "nbformat": 4,
  "nbformat_minor": 0,
  "metadata": {
    "colab": {
      "name": "Module 1.ipynb",
      "provenance": [],
      "collapsed_sections": [],
      "authorship_tag": "ABX9TyPVurd78IIEWqQXh087y2hF",
      "include_colab_link": true
    },
    "kernelspec": {
      "name": "python3",
      "display_name": "Python 3"
    },
    "language_info": {
      "name": "python"
    }
  },
  "cells": [
    {
      "cell_type": "markdown",
      "metadata": {
        "id": "view-in-github",
        "colab_type": "text"
      },
      "source": [
        "<a href=\"https://colab.research.google.com/github/MaheswaraPradeep/python-new/blob/module-1/Module_1.ipynb\" target=\"_parent\"><img src=\"https://colab.research.google.com/assets/colab-badge.svg\" alt=\"Open In Colab\"/></a>"
      ]
    },
    {
      "cell_type": "markdown",
      "source": [
        "## Accept input from user and store it in variable and print the value.\n"
      ],
      "metadata": {
        "id": "zWQUuho_Rxtt"
      }
    },
    {
      "cell_type": "code",
      "execution_count": null,
      "metadata": {
        "colab": {
          "base_uri": "https://localhost:8080/"
        },
        "id": "ilrwqQBpRt9y",
        "outputId": "d982653d-8e89-4002-9e8b-068772265296"
      },
      "outputs": [
        {
          "output_type": "stream",
          "name": "stdout",
          "text": [
            "Enter a number:25\n",
            "25\n"
          ]
        }
      ],
      "source": [
        "a=int(input(\"Enter a number:\"))\n",
        "print(a)\n"
      ]
    },
    {
      "cell_type": "markdown",
      "source": [
        "## Use of print statements and use of (.format )for printing different data types"
      ],
      "metadata": {
        "id": "CotCTIGESyLm"
      }
    },
    {
      "cell_type": "code",
      "source": [
        "a=20\n",
        "b=30\n",
        "c=\"Hello world\"\n",
        "d=True\n",
        "print(type(a))\n",
        "print(type(b))\n",
        "print(type(c))\n",
        "print(type(d))"
      ],
      "metadata": {
        "colab": {
          "base_uri": "https://localhost:8080/"
        },
        "id": "9WpcH5eySa-O",
        "outputId": "e2866eb4-d461-40d5-9304-15a0a4d2f68e"
      },
      "execution_count": null,
      "outputs": [
        {
          "output_type": "stream",
          "name": "stdout",
          "text": [
            "<class 'int'>\n",
            "<class 'int'>\n",
            "<class 'str'>\n",
            "<class 'bool'>\n"
          ]
        }
      ]
    },
    {
      "cell_type": "markdown",
      "source": [
        "## Take 2 numbers as user input and add, multiply, divide, subtract, remainder and print the output (Same operations on floating point input as well)"
      ],
      "metadata": {
        "id": "9DWJwvH5UnS1"
      }
    },
    {
      "cell_type": "code",
      "source": [
        "a=int(input(\"Enter a number:\"))\n",
        "b=int(input(\"Enter a number:\"))\n",
        "sum=a+b\n",
        "print(sum)\n",
        "mul=a*b\n",
        "print(mul)\n",
        "div=b/a\n",
        "print(div)\n",
        "sub=b-a\n",
        "print(sub)\n",
        "rem=b%a\n",
        "print(rem)"
      ],
      "metadata": {
        "id": "d0RxtKfhS2EV",
        "colab": {
          "base_uri": "https://localhost:8080/"
        },
        "outputId": "3403be21-bdc4-4e9e-baae-73af9a1cbf26"
      },
      "execution_count": null,
      "outputs": [
        {
          "output_type": "stream",
          "name": "stdout",
          "text": [
            "Enter a number:2\n",
            "Enter a number:45\n",
            "47\n",
            "90\n",
            "22.5\n",
            "43\n",
            "1\n"
          ]
        }
      ]
    },
    {
      "cell_type": "markdown",
      "source": [
        "### using float input"
      ],
      "metadata": {
        "id": "p4y--JLlVYyr"
      }
    },
    {
      "cell_type": "code",
      "source": [
        "a=float(input(\"Enter a number:\"))\n",
        "b=float(input(\"Enter a number:\"))\n",
        "sum=a+b\n",
        "print(sum)\n",
        "mul=a*b\n",
        "print(mul)\n",
        "div=b/a\n",
        "print(div)\n",
        "sub=b-a\n",
        "print(sub)\n",
        "rem=b%a\n",
        "print(rem)"
      ],
      "metadata": {
        "colab": {
          "base_uri": "https://localhost:8080/"
        },
        "id": "uOYJTnzWVMWe",
        "outputId": "bc3a712d-ce8e-4cb7-e4f7-eab58e8b22a5"
      },
      "execution_count": null,
      "outputs": [
        {
          "output_type": "stream",
          "name": "stdout",
          "text": [
            "Enter a number:2.5\n",
            "Enter a number:20.0\n",
            "22.5\n",
            "50.0\n",
            "8.0\n",
            "17.5\n",
            "0.0\n"
          ]
        }
      ]
    },
    {
      "cell_type": "markdown",
      "source": [
        "## Conversion of one unit to another (such as hours to minutes, miles to km and etc)"
      ],
      "metadata": {
        "id": "0tHbhmbrXi79"
      }
    },
    {
      "cell_type": "code",
      "source": [
        "a=int(input(\"Enter number of hours:\")) # hours to minutes unit conversion \n",
        "b=a*60\n",
        "print(b,\"Minutes\")"
      ],
      "metadata": {
        "colab": {
          "base_uri": "https://localhost:8080/"
        },
        "id": "OCrHzFFDVcwk",
        "outputId": "dc0c36bf-2a6f-4108-db91-3e2eb826f96a"
      },
      "execution_count": null,
      "outputs": [
        {
          "output_type": "stream",
          "name": "stdout",
          "text": [
            "Enter number of hours:3\n",
            "180 Minutes\n"
          ]
        }
      ]
    },
    {
      "cell_type": "code",
      "source": [
        "a=int(input(\"Enter number of miles:\")) # miles to km\n",
        "b=a*1.6\n",
        "print(b,\"kilometers\")"
      ],
      "metadata": {
        "colab": {
          "base_uri": "https://localhost:8080/"
        },
        "id": "TcAj9winXx1-",
        "outputId": "1f807858-8ca1-4016-f0a5-d5ff38f42858"
      },
      "execution_count": null,
      "outputs": [
        {
          "output_type": "stream",
          "name": "stdout",
          "text": [
            "Enter number of miles:3\n",
            "4.800000000000001 kilometers\n"
          ]
        }
      ]
    },
    {
      "cell_type": "markdown",
      "source": [
        "### Usage of mathematical functions in python like math.ceil, floor, fabs, fmod, trunc,pow, sqrt"
      ],
      "metadata": {
        "id": "-gqy1cCwd8v3"
      }
    },
    {
      "cell_type": "code",
      "source": [
        "import math\n",
        "print(math.ceil(1.2))\n",
        "print(math.ceil(-4.9))\n",
        "print(math.floor(3.9))\n",
        "print(math.floor(-6.1))\n",
        "print(math.fabs(-44.3))\n",
        "print(math.fabs(-9.0))\n",
        "print(math.fmod(20,6))\n",
        "print(math.fmod(40,8))\n",
        "print(math.trunc(8.333))\n",
        "print(math.trunc(-99.65))\n",
        "print(math.pow(25,2))\n",
        "print(math.sqrt(225))"
      ],
      "metadata": {
        "colab": {
          "base_uri": "https://localhost:8080/"
        },
        "id": "DJzxfNkHYHdm",
        "outputId": "ac3ccc3c-15f1-4ab9-ed94-89c997cfc1b4"
      },
      "execution_count": null,
      "outputs": [
        {
          "output_type": "stream",
          "name": "stdout",
          "text": [
            "2\n",
            "-4\n",
            "3\n",
            "-7\n",
            "44.3\n",
            "9.0\n",
            "2.0\n",
            "0.0\n",
            "8\n",
            "-99\n",
            "625.0\n",
            "15.0\n"
          ]
        }
      ]
    },
    {
      "cell_type": "markdown",
      "source": [
        "## Calculator using conditional operators"
      ],
      "metadata": {
        "id": "kbb-eQoRsjBw"
      }
    },
    {
      "cell_type": "code",
      "source": [
        "a=int(input(\"Enter a number:\"))\n",
        "b=int(input(\"Enter a number:\"))\n",
        "c=str(input(\"Enter an operator:\"))\n",
        "if c==\"+\":\n",
        "  print(a+b)\n",
        "elif c==\"-\":\n",
        "  print(a-b) \n",
        "elif c==\"*\":\n",
        "  print(a*b)  \n",
        "elif c==\"/\":\n",
        "  print(a/b) \n",
        "else:\n",
        "  print(\"You HAVE ENTERED THE WRONG OPERATOR\")        \n",
        "  "
      ],
      "metadata": {
        "colab": {
          "base_uri": "https://localhost:8080/"
        },
        "id": "I23j-Pl0tVVi",
        "outputId": "78e47976-fe25-43c7-e2d6-7172bbb342f1"
      },
      "execution_count": null,
      "outputs": [
        {
          "output_type": "stream",
          "name": "stdout",
          "text": [
            "Enter a number493\n",
            "Enter a number433\n",
            "Enter an operator:+\n",
            "926\n"
          ]
        }
      ]
    },
    {
      "cell_type": "markdown",
      "source": [
        "# Accepting 5 different subject marks from user and displaying the grade of the student"
      ],
      "metadata": {
        "id": "yvpatQRmsoyN"
      }
    },
    {
      "cell_type": "code",
      "source": [
        "a=int(input(\"Enter maths marks\"))\n",
        "b=int(input(\"Enter science number\"))\n",
        "c=int(input(\"Enter social number\"))\n",
        "d=int(input(\"Enter telugu number\"))\n",
        "e=int(input(\"Enter english number\"))\n",
        "avg=(a+b+c+d+e)/5\n",
        "print(avg)\n",
        "if avg>=90 and avg<=100:\n",
        "  print(\"A+\")\n",
        "elif avg>=89 and avg<=80:\n",
        "  print(\"A\")\n",
        "elif avg>=79 and avg<=70:\n",
        "  print(\"B+\") \n",
        "elif avg>=69 and avg<=60:\n",
        "  print(\"B\")  \n",
        "elif avg>=59 and avg<=50:\n",
        "  print(\"C+\")\n",
        "elif avg>=49 and avg<=40:\n",
        "  print(\"C\") \n",
        "elif avg>=39 and avg<=35:\n",
        "  print(\"D\")     \n",
        "else:\n",
        "  print(\"F\")\n"
      ],
      "metadata": {
        "colab": {
          "base_uri": "https://localhost:8080/"
        },
        "id": "Z9N26dqkeFm3",
        "outputId": "9cfccf6e-6d7d-4784-babd-ea0573a6f879"
      },
      "execution_count": null,
      "outputs": [
        {
          "output_type": "stream",
          "name": "stdout",
          "text": [
            "Enter maths marks90\n",
            "Enter science number98\n",
            "Enter social number99\n",
            "Enter telugu number100\n",
            "Enter english number96\n",
            "96.6\n",
            "A+\n"
          ]
        }
      ]
    },
    {
      "cell_type": "markdown",
      "source": [
        "# Printing all even numbers, odd numbers, count of even numbers, count of odd numbers within a given range."
      ],
      "metadata": {
        "id": "4QDDqNn8tJsr"
      }
    },
    {
      "cell_type": "code",
      "source": [
        "e=0\n",
        "o=0\n",
        "print(\"even numbers:\")\n",
        "for i in range(1,100):\n",
        "  if (i%2==0):\n",
        "    print(i)\n",
        "    e=e+1\n",
        "print(\"No of even numbers are\",e)    \n",
        "  \n",
        "print(\"odd numbers:\")\n",
        "for i in range(1,100):\n",
        "  if (i%2!=0):\n",
        "    print(i)\n",
        "    o=o+1\n",
        "print(\"No of odd numbers are\",o)   "
      ],
      "metadata": {
        "colab": {
          "base_uri": "https://localhost:8080/"
        },
        "id": "g6mEzrhNiCkv",
        "outputId": "29ce0641-2194-4f64-c57a-b3b34040f4ba"
      },
      "execution_count": null,
      "outputs": [
        {
          "output_type": "stream",
          "name": "stdout",
          "text": [
            "even numbers:\n",
            "2\n",
            "4\n",
            "6\n",
            "8\n",
            "10\n",
            "12\n",
            "14\n",
            "16\n",
            "18\n",
            "20\n",
            "22\n",
            "24\n",
            "26\n",
            "28\n",
            "30\n",
            "32\n",
            "34\n",
            "36\n",
            "38\n",
            "40\n",
            "42\n",
            "44\n",
            "46\n",
            "48\n",
            "50\n",
            "52\n",
            "54\n",
            "56\n",
            "58\n",
            "60\n",
            "62\n",
            "64\n",
            "66\n",
            "68\n",
            "70\n",
            "72\n",
            "74\n",
            "76\n",
            "78\n",
            "80\n",
            "82\n",
            "84\n",
            "86\n",
            "88\n",
            "90\n",
            "92\n",
            "94\n",
            "96\n",
            "98\n",
            "No of even numbers are 49\n",
            "odd numbers:\n",
            "1\n",
            "3\n",
            "5\n",
            "7\n",
            "9\n",
            "11\n",
            "13\n",
            "15\n",
            "17\n",
            "19\n",
            "21\n",
            "23\n",
            "25\n",
            "27\n",
            "29\n",
            "31\n",
            "33\n",
            "35\n",
            "37\n",
            "39\n",
            "41\n",
            "43\n",
            "45\n",
            "47\n",
            "49\n",
            "51\n",
            "53\n",
            "55\n",
            "57\n",
            "59\n",
            "61\n",
            "63\n",
            "65\n",
            "67\n",
            "69\n",
            "71\n",
            "73\n",
            "75\n",
            "77\n",
            "79\n",
            "81\n",
            "83\n",
            "85\n",
            "87\n",
            "89\n",
            "91\n",
            "93\n",
            "95\n",
            "97\n",
            "99\n",
            "No of odd numbers are 50\n"
          ]
        }
      ]
    },
    {
      "cell_type": "markdown",
      "source": [
        "## Factorial of a number"
      ],
      "metadata": {
        "id": "IjCH2uhzQm7H"
      }
    },
    {
      "cell_type": "code",
      "source": [
        "num=int(input(\"Enter a number\"))\n",
        "fact=1\n",
        "if (num>0):\n",
        "  for i in range(1,num+1):\n",
        "    fact=fact*i\n",
        "  print(fact)\n",
        "elif (num==0):\n",
        "  print(\"Factorial of the 0 is 1\")  \n",
        "else:\n",
        "  print(\"The entered number is a negative number\")  "
      ],
      "metadata": {
        "colab": {
          "base_uri": "https://localhost:8080/"
        },
        "id": "gH-OJGyUj4va",
        "outputId": "ff3d91f6-d96e-4fe8-c253-e5ba38c1cf06"
      },
      "execution_count": null,
      "outputs": [
        {
          "output_type": "stream",
          "name": "stdout",
          "text": [
            "Enter a number5\n",
            "120\n"
          ]
        }
      ]
    },
    {
      "cell_type": "markdown",
      "source": [
        "## GCD OF TWO NUMBERS"
      ],
      "metadata": {
        "id": "BFixFpZ3QiuZ"
      }
    },
    {
      "cell_type": "code",
      "source": [
        "a=int(input(\"Enter a number\"))\n",
        "b=int(input(\"Enter a number\"))\n",
        "i=1\n",
        "while(i<=a and i<=b):\n",
        "  if(a%i==0 and b%i==0):\n",
        "    gcd=i\n",
        "  i=i+1\n",
        "print(\"GCD is\",gcd) "
      ],
      "metadata": {
        "colab": {
          "base_uri": "https://localhost:8080/"
        },
        "id": "-Ly2agv0lDht",
        "outputId": "91e616c1-75f0-444e-d5b9-be61d5b193d0"
      },
      "execution_count": null,
      "outputs": [
        {
          "output_type": "stream",
          "name": "stdout",
          "text": [
            "Enter a number3\n",
            "Enter a number5\n",
            "GCD is 1\n"
          ]
        }
      ]
    },
    {
      "cell_type": "markdown",
      "source": [
        "## Palindrome or not"
      ],
      "metadata": {
        "id": "HO96qYQtQfs6"
      }
    },
    {
      "cell_type": "code",
      "source": [
        "a=int(input(\"Enter a number:\"))\n",
        "reverse=0\n",
        "org=a\n",
        "while(a!=0):\n",
        "  remainder=a%10\n",
        "  reverse=reverse*10+remainder\n",
        "  a=int(a/10)\n",
        "if (org==reverse):\n",
        "  print(\"given number is palindrome\")\n",
        "else:\n",
        "  print('Not a palindrome')  \n"
      ],
      "metadata": {
        "colab": {
          "base_uri": "https://localhost:8080/"
        },
        "id": "mmO5bzSIni7M",
        "outputId": "d4d7880c-5d52-4858-c3b8-2d6635465c54"
      },
      "execution_count": null,
      "outputs": [
        {
          "output_type": "stream",
          "name": "stdout",
          "text": [
            "Enter a number:111\n",
            "given number is palindrome\n"
          ]
        }
      ]
    },
    {
      "cell_type": "markdown",
      "source": [
        "## Strong number or not"
      ],
      "metadata": {
        "id": "EBRbEHUPQcBP"
      }
    },
    {
      "cell_type": "code",
      "source": [
        "a=int(input(\"Enter a number:\"))\n",
        "f=1\n",
        "e=0\n",
        "c=a\n",
        "while(a!=0):\n",
        "  rem=a%10\n",
        "  for i in range(1,rem+1):\n",
        "    f=f*i\n",
        "  e=e+f\n",
        "  a=int(a/10)\n",
        "  f=1\n",
        "if(c==e):\n",
        "  print(\"Strong number\")\n",
        "else:\n",
        "  print(\"Not strong number\")   \n"
      ],
      "metadata": {
        "colab": {
          "base_uri": "https://localhost:8080/"
        },
        "id": "w5C1Pgx8qHoU",
        "outputId": "c4ed84b6-7027-49ca-8381-49e48ec1be42"
      },
      "execution_count": null,
      "outputs": [
        {
          "output_type": "stream",
          "name": "stdout",
          "text": [
            "Enter a number:145\n",
            "Strong number\n"
          ]
        }
      ]
    },
    {
      "cell_type": "markdown",
      "source": [
        "## Perfect number or not"
      ],
      "metadata": {
        "id": "WUe1KeKwQZHW"
      }
    },
    {
      "cell_type": "code",
      "source": [
        "n=int(input(\"Enter a number\"))\n",
        "a=n\n",
        "sum=0\n",
        "for i in range(1,n):\n",
        "  if (n%i==0):\n",
        "     sum=sum+i\n",
        "if (sum==a):\n",
        "  print(\"Perfect number\")\n",
        "else:\n",
        "  print(\"Not a perfect number\")    "
      ],
      "metadata": {
        "colab": {
          "base_uri": "https://localhost:8080/"
        },
        "id": "ql4ivex0ruSq",
        "outputId": "68ba2d26-3f63-4589-c792-4c12c56a4b9f"
      },
      "execution_count": null,
      "outputs": [
        {
          "output_type": "stream",
          "name": "stdout",
          "text": [
            "Enter a number28\n",
            "Perfect number\n"
          ]
        }
      ]
    },
    {
      "cell_type": "markdown",
      "source": [
        "## Compound interst"
      ],
      "metadata": {
        "id": "566ikaDUQrky"
      }
    },
    {
      "cell_type": "code",
      "source": [
        "\n",
        "import math\n",
        "p=int(input(\"Enter the pricipal amount:\"))\n",
        "r=int(input(\"Enter the rate of interst:\"))\n",
        "t=int(input(\"Enter the time:\"))\n",
        "x=1+r/100\n",
        "CI=p*pow(x,t)\n",
        "print(CI)"
      ],
      "metadata": {
        "colab": {
          "base_uri": "https://localhost:8080/"
        },
        "id": "MTVww4uosw9C",
        "outputId": "e08f4776-c6d5-48bf-b1d5-efce77ea3441"
      },
      "execution_count": null,
      "outputs": [
        {
          "output_type": "stream",
          "name": "stdout",
          "text": [
            "Enter the pricipal amount:1000\n",
            "Enter the rate of interst:5\n",
            "Enter the time:2\n",
            "1102.5\n"
          ]
        }
      ]
    },
    {
      "cell_type": "markdown",
      "source": [
        "## Fibonacci series"
      ],
      "metadata": {
        "id": "yjoe3xjDuJym"
      }
    },
    {
      "cell_type": "code",
      "source": [
        "num = int(input(\"Enter the Number:\"))\n",
        "n1, n2 = 0, 1\n",
        "print(\"Fibonacci Series:\", n1, n2, end=\" \")\n",
        "for i in range(2, num):\n",
        "    n3 = n1 + n2\n",
        "    n1 = n2\n",
        "    n2 = n3\n",
        "    print(n3, end=\" \")"
      ],
      "metadata": {
        "colab": {
          "base_uri": "https://localhost:8080/"
        },
        "id": "wtuUyvHz_Qj7",
        "outputId": "d4204298-59e6-43c6-cc45-febcd1b3620b"
      },
      "execution_count": null,
      "outputs": [
        {
          "output_type": "stream",
          "name": "stdout",
          "text": [
            "Enter the Number:5\n",
            "Fibonacci Series: 0 1 1 2 3 "
          ]
        }
      ]
    }
  ]
}