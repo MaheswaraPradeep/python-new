{
  "nbformat": 4,
  "nbformat_minor": 0,
  "metadata": {
    "colab": {
      "provenance": [],
      "authorship_tag": "ABX9TyMW+gmKYdjRONftsmlZV7Rd",
      "include_colab_link": true
    },
    "kernelspec": {
      "name": "python3",
      "display_name": "Python 3"
    },
    "language_info": {
      "name": "python"
    }
  },
  "cells": [
    {
      "cell_type": "markdown",
      "metadata": {
        "id": "view-in-github",
        "colab_type": "text"
      },
      "source": [
        "<a href=\"https://colab.research.google.com/github/MaheswaraPradeep/python-new/blob/main/Numpy.ipynb\" target=\"_parent\"><img src=\"https://colab.research.google.com/assets/colab-badge.svg\" alt=\"Open In Colab\"/></a>"
      ]
    },
    {
      "cell_type": "markdown",
      "source": [
        "Advantages of numpy\n",
        "1. Allows several math ops\n",
        "2. faster operations"
      ],
      "metadata": {
        "id": "3iFth9Dxh2Bd"
      }
    },
    {
      "cell_type": "code",
      "execution_count": null,
      "metadata": {
        "id": "Wd0sOxkGhkTt"
      },
      "outputs": [],
      "source": [
        "import numpy as np"
      ]
    },
    {
      "cell_type": "markdown",
      "source": [
        "List vs numpy time taken"
      ],
      "metadata": {
        "id": "b62LFUzqiaTb"
      }
    },
    {
      "cell_type": "code",
      "source": [
        "from time import process_time"
      ],
      "metadata": {
        "id": "FZl2sRNQiDYS"
      },
      "execution_count": null,
      "outputs": []
    },
    {
      "cell_type": "markdown",
      "source": [
        "Time taken by list"
      ],
      "metadata": {
        "id": "W9cbS0VUik6H"
      }
    },
    {
      "cell_type": "code",
      "source": [
        "list1=[i for i in range(1000000)]\n",
        "start_time=process_time()\n",
        "list1=[i+5 for i in list1]\n",
        "end_time=process_time()\n",
        "print(end_time-start_time)"
      ],
      "metadata": {
        "colab": {
          "base_uri": "https://localhost:8080/"
        },
        "id": "paMOdtLWij1v",
        "outputId": "90e6d01f-4ee8-4bae-8e49-d22e93daa7ff"
      },
      "execution_count": null,
      "outputs": [
        {
          "output_type": "stream",
          "name": "stdout",
          "text": [
            "0.0722972460000002\n"
          ]
        }
      ]
    },
    {
      "cell_type": "code",
      "source": [
        "np_array=np.array([i for i in range(1000000)])\n",
        "start_time=process_time()\n",
        "np_array+=5\n",
        "end_time=process_time()\n",
        "print(end_time-start_time)"
      ],
      "metadata": {
        "colab": {
          "base_uri": "https://localhost:8080/"
        },
        "id": "2e684y9GjYZr",
        "outputId": "ab415016-962d-4977-e214-8394ef432fe8"
      },
      "execution_count": null,
      "outputs": [
        {
          "output_type": "stream",
          "name": "stdout",
          "text": [
            "0.001354073999999983\n"
          ]
        }
      ]
    },
    {
      "cell_type": "markdown",
      "source": [
        "Numpy arrays"
      ],
      "metadata": {
        "id": "zkhErbWDkWKr"
      }
    },
    {
      "cell_type": "code",
      "source": [
        "list2=[1,2,3,4,5]\n",
        "print(list2)\n",
        "type(list2)"
      ],
      "metadata": {
        "colab": {
          "base_uri": "https://localhost:8080/"
        },
        "id": "c1jGipAlkTg0",
        "outputId": "e0e4fb2a-42f1-4a2d-ed3b-c9b88cf55502"
      },
      "execution_count": null,
      "outputs": [
        {
          "output_type": "stream",
          "name": "stdout",
          "text": [
            "[1, 2, 3, 4, 5]\n"
          ]
        },
        {
          "output_type": "execute_result",
          "data": {
            "text/plain": [
              "list"
            ]
          },
          "metadata": {},
          "execution_count": 6
        }
      ]
    },
    {
      "cell_type": "code",
      "source": [
        "arr=np.array([1,2,3,4,5])\n",
        "print(arr)\n",
        "type(arr)"
      ],
      "metadata": {
        "colab": {
          "base_uri": "https://localhost:8080/"
        },
        "id": "fcRXp10OkfIX",
        "outputId": "2b341b13-2b8d-46ff-9e10-670bfc398b7d"
      },
      "execution_count": null,
      "outputs": [
        {
          "output_type": "stream",
          "name": "stdout",
          "text": [
            "[1 2 3 4 5]\n"
          ]
        },
        {
          "output_type": "execute_result",
          "data": {
            "text/plain": [
              "numpy.ndarray"
            ]
          },
          "metadata": {},
          "execution_count": 7
        }
      ]
    },
    {
      "cell_type": "code",
      "source": [
        "# creating 1d array\n",
        "a=np.array([2,3,4,5])\n",
        "print(a)"
      ],
      "metadata": {
        "colab": {
          "base_uri": "https://localhost:8080/"
        },
        "id": "le-OpIt9kvGS",
        "outputId": "208ab980-bf5c-41fa-f8c8-a0c4b2070f0d"
      },
      "execution_count": null,
      "outputs": [
        {
          "output_type": "stream",
          "name": "stdout",
          "text": [
            "[2 3 4 5]\n"
          ]
        }
      ]
    },
    {
      "cell_type": "code",
      "source": [
        "a.shape # shape is a fun used to print colums and rows in a array"
      ],
      "metadata": {
        "colab": {
          "base_uri": "https://localhost:8080/"
        },
        "id": "w3r9DhKjk_lY",
        "outputId": "47e4029b-95ca-4c70-f346-47d1e6640458"
      },
      "execution_count": null,
      "outputs": [
        {
          "output_type": "execute_result",
          "data": {
            "text/plain": [
              "(4,)"
            ]
          },
          "metadata": {},
          "execution_count": 9
        }
      ]
    },
    {
      "cell_type": "code",
      "source": [
        "b=np.array([(1,2,3,4),(5,6,7,8)])\n",
        "print(b.ndim)"
      ],
      "metadata": {
        "colab": {
          "base_uri": "https://localhost:8080/"
        },
        "id": "jIPJIDSilDWf",
        "outputId": "85d0e64c-af72-4c7a-9000-c95a0d1d3795"
      },
      "execution_count": null,
      "outputs": [
        {
          "output_type": "stream",
          "name": "stdout",
          "text": [
            "2\n"
          ]
        }
      ]
    },
    {
      "cell_type": "code",
      "source": [
        "b.shape"
      ],
      "metadata": {
        "colab": {
          "base_uri": "https://localhost:8080/"
        },
        "id": "R3uTg8bGlRDR",
        "outputId": "ecf5f5d5-5a30-4f8c-d6c7-af28c78ef10d"
      },
      "execution_count": null,
      "outputs": [
        {
          "output_type": "execute_result",
          "data": {
            "text/plain": [
              "(2, 4)"
            ]
          },
          "metadata": {},
          "execution_count": 12
        }
      ]
    },
    {
      "cell_type": "code",
      "source": [
        "c=np.array([(1,2,3,4),(5,6,7,8)],dtype=float) # dtype is used to mention other data types than int. by default it is int\n",
        "print(c)"
      ],
      "metadata": {
        "colab": {
          "base_uri": "https://localhost:8080/"
        },
        "id": "Tkq14xwLlTzK",
        "outputId": "f1854f85-64a1-4a3a-d3d6-0485cdc5b265"
      },
      "execution_count": null,
      "outputs": [
        {
          "output_type": "stream",
          "name": "stdout",
          "text": [
            "[[1. 2. 3. 4.]\n",
            " [5. 6. 7. 8.]]\n"
          ]
        }
      ]
    },
    {
      "cell_type": "markdown",
      "source": [
        "Initial place holders in numpy array"
      ],
      "metadata": {
        "id": "rNdHLYxYlre-"
      }
    },
    {
      "cell_type": "code",
      "source": [
        "# create numpy array of zeroes\n",
        "x=np.zeros((4,5)) # zeros is a function for all values zeros and 4,5 is 4 rows and 5 cols\n",
        "print(x)"
      ],
      "metadata": {
        "colab": {
          "base_uri": "https://localhost:8080/"
        },
        "id": "KlpZfH1_ljxQ",
        "outputId": "7022bef6-8e3e-4aa0-b06f-0baaac1e89dc"
      },
      "execution_count": null,
      "outputs": [
        {
          "output_type": "stream",
          "name": "stdout",
          "text": [
            "[[0. 0. 0. 0. 0.]\n",
            " [0. 0. 0. 0. 0.]\n",
            " [0. 0. 0. 0. 0.]\n",
            " [0. 0. 0. 0. 0.]]\n"
          ]
        }
      ]
    },
    {
      "cell_type": "code",
      "source": [
        "# create numpy array of 1s\n",
        "y=np.ones((3,3))\n",
        "print(y)"
      ],
      "metadata": {
        "colab": {
          "base_uri": "https://localhost:8080/"
        },
        "id": "RtBsp1O-mCmy",
        "outputId": "e30ce126-736c-432e-d4a1-be05ae386169"
      },
      "execution_count": null,
      "outputs": [
        {
          "output_type": "stream",
          "name": "stdout",
          "text": [
            "[[1. 1. 1.]\n",
            " [1. 1. 1.]\n",
            " [1. 1. 1.]]\n"
          ]
        }
      ]
    },
    {
      "cell_type": "code",
      "source": [
        "# create array of a particular value\n",
        "z=np.full((5,5),5) # full is a func used to get all values of a specified value other than 0 or 1\n",
        "print(z)"
      ],
      "metadata": {
        "colab": {
          "base_uri": "https://localhost:8080/"
        },
        "id": "1sxcVMjemJ9F",
        "outputId": "792e424e-535e-4fa8-9329-a5158ac34eac"
      },
      "execution_count": null,
      "outputs": [
        {
          "output_type": "stream",
          "name": "stdout",
          "text": [
            "[[5 5 5 5 5]\n",
            " [5 5 5 5 5]\n",
            " [5 5 5 5 5]\n",
            " [5 5 5 5 5]\n",
            " [5 5 5 5 5]]\n"
          ]
        }
      ]
    },
    {
      "cell_type": "code",
      "source": [
        "# create identity matrix\n",
        "a=np.eye(4) # eye is func used to print identity matrix. only one arg is given since identity matrix is a square matrix\n",
        "print(a)"
      ],
      "metadata": {
        "colab": {
          "base_uri": "https://localhost:8080/"
        },
        "id": "uBP9rnkbmXAa",
        "outputId": "aaedd3c6-1167-4dbc-fde4-080fbf1a5a9e"
      },
      "execution_count": null,
      "outputs": [
        {
          "output_type": "stream",
          "name": "stdout",
          "text": [
            "[[1. 0. 0. 0.]\n",
            " [0. 1. 0. 0.]\n",
            " [0. 0. 1. 0.]\n",
            " [0. 0. 0. 1.]]\n"
          ]
        }
      ]
    },
    {
      "cell_type": "code",
      "source": [
        "# create numpy array with random values\n",
        "b=np.random.random((3,4)) # all random vals will be btw 0 to 1\n",
        "print(b)"
      ],
      "metadata": {
        "colab": {
          "base_uri": "https://localhost:8080/"
        },
        "id": "zrFBe4SpmnDM",
        "outputId": "6a34e0f5-913e-4a73-8370-b591e1f0c5e5"
      },
      "execution_count": null,
      "outputs": [
        {
          "output_type": "stream",
          "name": "stdout",
          "text": [
            "[[0.35956782 0.90925676 0.7091323  0.92225106]\n",
            " [0.56654121 0.26280467 0.04591846 0.31499362]\n",
            " [0.12390046 0.46585445 0.10019096 0.80423548]]\n"
          ]
        }
      ]
    },
    {
      "cell_type": "code",
      "source": [
        "# random values array with integers within a range\n",
        "c=np.random.randint(1,100,(3,3))\n",
        "print(c)"
      ],
      "metadata": {
        "colab": {
          "base_uri": "https://localhost:8080/"
        },
        "id": "AhZm2HbDnBn0",
        "outputId": "d15557cf-27c1-4643-a694-c265ed1bdc9e"
      },
      "execution_count": null,
      "outputs": [
        {
          "output_type": "stream",
          "name": "stdout",
          "text": [
            "[[61 64 20]\n",
            " [90  5 81]\n",
            " [33 39 81]]\n"
          ]
        }
      ]
    },
    {
      "cell_type": "code",
      "source": [
        "# arry of evenly spaced values --- specify no of values wanted\n",
        "d=np.linspace(1,100,6) # values btw 1 to 100, 6 values needed\n",
        "print(d)"
      ],
      "metadata": {
        "colab": {
          "base_uri": "https://localhost:8080/"
        },
        "id": "0iRLLByfnY8i",
        "outputId": "dbcde09f-8dbe-40aa-c416-d65114c59d41"
      },
      "execution_count": null,
      "outputs": [
        {
          "output_type": "stream",
          "name": "stdout",
          "text": [
            "[  1.   20.8  40.6  60.4  80.2 100. ]\n"
          ]
        }
      ]
    },
    {
      "cell_type": "code",
      "source": [
        "# arry of evenly spaced values --- specify step value\n",
        "e=np.arange(10,100,5) # evenly spaced btw 1 to 100 of difference of 5\n",
        "print(e)"
      ],
      "metadata": {
        "colab": {
          "base_uri": "https://localhost:8080/"
        },
        "id": "7sSlSM3Xns21",
        "outputId": "15c9abed-9e89-4472-be92-176d7874f184"
      },
      "execution_count": null,
      "outputs": [
        {
          "output_type": "stream",
          "name": "stdout",
          "text": [
            "[10 15 20 25 30 35 40 45 50 55 60 65 70 75 80 85 90 95]\n"
          ]
        }
      ]
    },
    {
      "cell_type": "code",
      "source": [
        "# convert list to a numpy array\n",
        "list2=[10,23,45,67,89]\n",
        "arr=np.asarray(list2)\n",
        "print(arr)\n",
        "type(arr)"
      ],
      "metadata": {
        "colab": {
          "base_uri": "https://localhost:8080/"
        },
        "id": "5yjF2X8boNJQ",
        "outputId": "7c3d8e09-dd9a-4243-ab4e-c175f324f6d1"
      },
      "execution_count": null,
      "outputs": [
        {
          "output_type": "stream",
          "name": "stdout",
          "text": [
            "[10 23 45 67 89]\n"
          ]
        },
        {
          "output_type": "execute_result",
          "data": {
            "text/plain": [
              "numpy.ndarray"
            ]
          },
          "metadata": {},
          "execution_count": 28
        }
      ]
    },
    {
      "cell_type": "markdown",
      "source": [
        "Analysing numpy array"
      ],
      "metadata": {
        "id": "YTrVL9XZoxtQ"
      }
    },
    {
      "cell_type": "code",
      "source": [
        "c=np.random.randint(10,20,(5,5))\n",
        "print(c)"
      ],
      "metadata": {
        "colab": {
          "base_uri": "https://localhost:8080/"
        },
        "id": "LVb8vyhzonbJ",
        "outputId": "ed58cd5d-7bc0-48f1-c151-302c5262f232"
      },
      "execution_count": null,
      "outputs": [
        {
          "output_type": "stream",
          "name": "stdout",
          "text": [
            "[[16 17 14 10 19]\n",
            " [12 16 15 12 14]\n",
            " [12 14 17 12 13]\n",
            " [17 13 10 14 17]\n",
            " [18 12 10 15 16]]\n"
          ]
        }
      ]
    },
    {
      "cell_type": "code",
      "source": [
        "# array dimension\n",
        "print(c.shape)"
      ],
      "metadata": {
        "colab": {
          "base_uri": "https://localhost:8080/"
        },
        "id": "1flfSxjjo7fe",
        "outputId": "a46d0c30-66cc-4179-8cc5-8c22c76ff8c7"
      },
      "execution_count": null,
      "outputs": [
        {
          "output_type": "stream",
          "name": "stdout",
          "text": [
            "(5, 5)\n"
          ]
        }
      ]
    },
    {
      "cell_type": "code",
      "source": [
        "# no of dimensions\n",
        "print(c.ndim) # says whether it is 2d or 3d array etc"
      ],
      "metadata": {
        "colab": {
          "base_uri": "https://localhost:8080/"
        },
        "id": "8d3UTeWhpBfJ",
        "outputId": "e0369a59-d838-4b1a-b869-468f1b6b2a17"
      },
      "execution_count": null,
      "outputs": [
        {
          "output_type": "stream",
          "name": "stdout",
          "text": [
            "2\n"
          ]
        }
      ]
    },
    {
      "cell_type": "code",
      "source": [
        "# check no of elements in an array\n",
        "print(c.size)"
      ],
      "metadata": {
        "colab": {
          "base_uri": "https://localhost:8080/"
        },
        "id": "VWYRkV1rpHV6",
        "outputId": "8d1cb7cc-347c-4090-8dc5-e8abb7bbc548"
      },
      "execution_count": null,
      "outputs": [
        {
          "output_type": "stream",
          "name": "stdout",
          "text": [
            "25\n"
          ]
        }
      ]
    },
    {
      "cell_type": "code",
      "source": [
        "# checking data type of values in array\n",
        "print(c.dtype) # 64 bit integer data type"
      ],
      "metadata": {
        "colab": {
          "base_uri": "https://localhost:8080/"
        },
        "id": "5LvhhQsJpR6W",
        "outputId": "c4e54f2e-c850-4b7c-90b5-7a6b5f4d1c57"
      },
      "execution_count": null,
      "outputs": [
        {
          "output_type": "stream",
          "name": "stdout",
          "text": [
            "int64\n"
          ]
        }
      ]
    },
    {
      "cell_type": "markdown",
      "source": [
        "Math operation on np array"
      ],
      "metadata": {
        "id": "qV56O_miphDO"
      }
    },
    {
      "cell_type": "code",
      "source": [
        "list1=[1,2,3,4,5]\n",
        "list2=[45,34,12,11]\n",
        "print(list1+list2) # element wise addition not happening. only concatenation happens in list"
      ],
      "metadata": {
        "colab": {
          "base_uri": "https://localhost:8080/"
        },
        "id": "UqkH9b5cpa3G",
        "outputId": "547823d5-cc23-4ebf-c604-8be60db81d82"
      },
      "execution_count": null,
      "outputs": [
        {
          "output_type": "stream",
          "name": "stdout",
          "text": [
            "[1, 2, 3, 4, 5, 45, 34, 12, 11]\n"
          ]
        }
      ]
    },
    {
      "cell_type": "code",
      "source": [
        "a=np.random.randint(1,20,(3,3))\n",
        "b=np.random.randint(10,20,(3,3))\n",
        "print(a)\n",
        "print(b)\n",
        "print(a+b) # element wise addition happens\n",
        "print(a-b)\n",
        "print(a*b)\n",
        "print(a//b)"
      ],
      "metadata": {
        "colab": {
          "base_uri": "https://localhost:8080/"
        },
        "id": "68uDhKqZpslp",
        "outputId": "bbaa7a3f-dc03-4e93-c936-3433738fc49e"
      },
      "execution_count": null,
      "outputs": [
        {
          "output_type": "stream",
          "name": "stdout",
          "text": [
            "[[12 18  4]\n",
            " [14  9  6]\n",
            " [ 5  9 16]]\n",
            "[[16 17 19]\n",
            " [10 14 15]\n",
            " [11 14 11]]\n",
            "[[28 35 23]\n",
            " [24 23 21]\n",
            " [16 23 27]]\n",
            "[[ -4   1 -15]\n",
            " [  4  -5  -9]\n",
            " [ -6  -5   5]]\n",
            "[[192 306  76]\n",
            " [140 126  90]\n",
            " [ 55 126 176]]\n",
            "[[0 1 0]\n",
            " [1 0 0]\n",
            " [0 0 1]]\n"
          ]
        }
      ]
    },
    {
      "cell_type": "code",
      "source": [
        "# another way to do basic math ops\n",
        "print(np.add(a,b))\n",
        "print(np.subtract(a,b))\n",
        "print(np.multiply(a,b))\n",
        "print(np.divide(a,b))"
      ],
      "metadata": {
        "colab": {
          "base_uri": "https://localhost:8080/"
        },
        "id": "22CqHf4OqLNQ",
        "outputId": "f98491a4-cb5e-48a1-8cfa-fc2fb9f13ffc"
      },
      "execution_count": null,
      "outputs": [
        {
          "output_type": "stream",
          "name": "stdout",
          "text": [
            "[[28 35 23]\n",
            " [24 23 21]\n",
            " [16 23 27]]\n",
            "[[ -4   1 -15]\n",
            " [  4  -5  -9]\n",
            " [ -6  -5   5]]\n",
            "[[192 306  76]\n",
            " [140 126  90]\n",
            " [ 55 126 176]]\n",
            "[[0.75       1.05882353 0.21052632]\n",
            " [1.4        0.64285714 0.4       ]\n",
            " [0.45454545 0.64285714 1.45454545]]\n"
          ]
        }
      ]
    },
    {
      "cell_type": "markdown",
      "source": [
        "Array manipulations"
      ],
      "metadata": {
        "id": "V-mGpNF3q9zQ"
      }
    },
    {
      "cell_type": "code",
      "source": [
        "a=np.random.randint(0,10,(2,3))\n",
        "print(a)\n",
        "print(a.shape)"
      ],
      "metadata": {
        "colab": {
          "base_uri": "https://localhost:8080/"
        },
        "id": "zNOPn00-q3lv",
        "outputId": "4306271b-9af2-4aff-99c1-88ccbe848a66"
      },
      "execution_count": null,
      "outputs": [
        {
          "output_type": "stream",
          "name": "stdout",
          "text": [
            "[[6 2 6]\n",
            " [7 7 4]]\n",
            "(2, 3)\n"
          ]
        }
      ]
    },
    {
      "cell_type": "code",
      "source": [
        "# transpose\n",
        "b=np.transpose(a)\n",
        "print(b)"
      ],
      "metadata": {
        "colab": {
          "base_uri": "https://localhost:8080/"
        },
        "id": "_wck3jz1rIDU",
        "outputId": "7ea8ecb2-74db-40b4-9d97-ada8b6209e6f"
      },
      "execution_count": null,
      "outputs": [
        {
          "output_type": "stream",
          "name": "stdout",
          "text": [
            "[[6 7]\n",
            " [2 7]\n",
            " [6 4]]\n"
          ]
        }
      ]
    },
    {
      "cell_type": "code",
      "source": [
        "arr=np.array((1,2,3,45))\n",
        "print(arr)"
      ],
      "metadata": {
        "id": "ap0kR0VjrODt",
        "colab": {
          "base_uri": "https://localhost:8080/"
        },
        "outputId": "d7a5fbbb-8d2d-4138-d9ba-e63214a1c1ef"
      },
      "execution_count": null,
      "outputs": [
        {
          "output_type": "stream",
          "name": "stdout",
          "text": [
            "[ 1  2  3 45]\n"
          ]
        }
      ]
    },
    {
      "cell_type": "code",
      "source": [
        "arr=np.array([[[1,2,3,4],[6,7,89,99]],[[1,2,3,4],[5,56,7,8]]])\n",
        "print(arr)\n",
        "print(arr.ndim)"
      ],
      "metadata": {
        "colab": {
          "base_uri": "https://localhost:8080/"
        },
        "id": "sfZTLb_3-FfQ",
        "outputId": "9581d3b0-eb31-4a97-bf5e-76f32961b325"
      },
      "execution_count": null,
      "outputs": [
        {
          "output_type": "stream",
          "name": "stdout",
          "text": [
            "[[[ 1  2  3  4]\n",
            "  [ 6  7 89 99]]\n",
            "\n",
            " [[ 1  2  3  4]\n",
            "  [ 5 56  7  8]]]\n",
            "3\n"
          ]
        }
      ]
    },
    {
      "cell_type": "code",
      "source": [
        "arr=np.array([(1,2,3,4),(2,3,4,5),(1,2,3,4)])\n",
        "print(arr.ndim)"
      ],
      "metadata": {
        "colab": {
          "base_uri": "https://localhost:8080/"
        },
        "id": "ieW98x9eBWrC",
        "outputId": "3a9dd657-2ca6-4382-9afc-3827bc6251a6"
      },
      "execution_count": null,
      "outputs": [
        {
          "output_type": "stream",
          "name": "stdout",
          "text": [
            "2\n"
          ]
        }
      ]
    },
    {
      "cell_type": "code",
      "source": [
        "arr=np.array([[1,2,3,4],[2,3,4,5]])\n",
        "print(arr[0,-1])"
      ],
      "metadata": {
        "colab": {
          "base_uri": "https://localhost:8080/"
        },
        "id": "MGZ7GUaeC60T",
        "outputId": "41cc8080-4230-4b71-e7d7-c47f2cad88b6"
      },
      "execution_count": null,
      "outputs": [
        {
          "output_type": "stream",
          "name": "stdout",
          "text": [
            "4\n"
          ]
        }
      ]
    },
    {
      "cell_type": "code",
      "source": [
        "arr=np.array([1,2,3,4,5])\n",
        "print(arr[1:])"
      ],
      "metadata": {
        "id": "uouVPcjcH03Z"
      },
      "execution_count": null,
      "outputs": []
    },
    {
      "cell_type": "code",
      "source": [],
      "metadata": {
        "id": "r53gZIh2Jdjg"
      },
      "execution_count": null,
      "outputs": []
    }
  ]
}