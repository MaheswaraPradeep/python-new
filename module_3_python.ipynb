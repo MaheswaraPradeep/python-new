{
  "cells": [
    {
      "cell_type": "markdown",
      "metadata": {
        "id": "view-in-github",
        "colab_type": "text"
      },
      "source": [
        "<a href=\"https://colab.research.google.com/github/MaheswaraPradeep/python-new/blob/module-3/module_3_python.ipynb\" target=\"_parent\"><img src=\"https://colab.research.google.com/assets/colab-badge.svg\" alt=\"Open In Colab\"/></a>"
      ]
    },
    {
      "cell_type": "markdown",
      "metadata": {
        "id": "dq8LTWv-2KEJ"
      },
      "source": [
        "## read an entire text file"
      ]
    },
    {
      "cell_type": "code",
      "execution_count": null,
      "metadata": {
        "id": "-mm1xO6I2KEO",
        "outputId": "ff210e2a-2b83-4f5e-9685-64b498a01020"
      },
      "outputs": [
        {
          "name": "stdout",
          "output_type": "stream",
          "text": [
            "Hi my name is pradeep.\n",
            "i am learning python\n",
            "it is very interseting\n"
          ]
        }
      ],
      "source": [
        "f=open(\"C:\\\\Users\\lenovo\\OneDrive\\Desktop\\hello.txt\",\"r\")\n",
        "print(f.read())"
      ]
    },
    {
      "cell_type": "markdown",
      "metadata": {
        "id": "3a6TK5i22KEQ"
      },
      "source": [
        "## read the first n lines of a file."
      ]
    },
    {
      "cell_type": "code",
      "execution_count": null,
      "metadata": {
        "id": "Y80r_wJp2KER",
        "outputId": "9a737794-6071-422c-e872-ce2d6f08d89f"
      },
      "outputs": [
        {
          "name": "stdout",
          "output_type": "stream",
          "text": [
            "Hi my name is pradeep.\n",
            "\n",
            "i am learning python\n",
            "\n"
          ]
        }
      ],
      "source": [
        "f=open(\"C:\\\\Users\\lenovo\\OneDrive\\Desktop\\hello.txt\",\"r\")\n",
        "print(f.readline())\n",
        "print(f.readline())"
      ]
    },
    {
      "cell_type": "markdown",
      "metadata": {
        "id": "JcotXF162KES"
      },
      "source": [
        "## *append* text to a file and display the text"
      ]
    },
    {
      "cell_type": "code",
      "execution_count": null,
      "metadata": {
        "id": "dz3PCATi2KES",
        "outputId": "6fd4ab93-f531-406f-df28-475782ac7b6c"
      },
      "outputs": [
        {
          "name": "stdout",
          "output_type": "stream",
          "text": [
            "23\n"
          ]
        }
      ],
      "source": [
        "f=open(\"C:\\\\Users\\lenovo\\OneDrive\\Desktop\\pradeep.txt\",\"a\")\n",
        "print(f.write(\" I love learning python\"))\n",
        "f.close()"
      ]
    },
    {
      "cell_type": "code",
      "execution_count": null,
      "metadata": {
        "id": "Ufzs23Fz2KET",
        "outputId": "57167112-7546-44a3-f400-7ce2501f7aae"
      },
      "outputs": [
        {
          "name": "stdout",
          "output_type": "stream",
          "text": [
            " I love learning python\n"
          ]
        }
      ],
      "source": [
        "f=open(\"C:\\\\Users\\lenovo\\OneDrive\\Desktop\\pradeep.txt\",\"r\")\n",
        "print(f.read())"
      ]
    },
    {
      "cell_type": "markdown",
      "metadata": {
        "id": "nHXi59Yt2KET"
      },
      "source": [
        "#Read numbers from a file and write even and odd numbers to separate files."
      ]
    },
    {
      "cell_type": "code",
      "execution_count": null,
      "metadata": {
        "id": "jwJWQLaa2KEU",
        "outputId": "1720eadc-6682-4756-bb33-88fcc90af58f"
      },
      "outputs": [
        {
          "name": "stdout",
          "output_type": "stream",
          "text": [
            "2\n",
            "2\n",
            "2\n",
            "2\n",
            "2\n",
            "2\n",
            "2\n",
            "2\n",
            "2\n",
            "3\n",
            "3\n",
            "3\n",
            "3\n",
            "3\n",
            "3\n",
            "3\n",
            "3\n",
            "3\n",
            "3\n",
            "3\n"
          ]
        }
      ],
      "source": [
        "f=open(\"C:\\\\Users\\lenovo\\OneDrive\\Desktop\\\\numbers.txt\",\"r\")\n",
        "for x in f:\n",
        "    if (int(x)%2==0):\n",
        "        f1=open(\"C:\\\\Users\\lenovo\\OneDrive\\Desktop\\even.txt\",\"a\")\n",
        "        print(f1.write(x))\n",
        "        f1.close()\n",
        "    else:\n",
        "        f2=open(\"C:\\\\Users\\lenovo\\OneDrive\\Desktop\\odd.txt\",\"a\")\n",
        "        print(f2.write(x))\n",
        "        f2.close()\n"
      ]
    },
    {
      "cell_type": "code",
      "execution_count": null,
      "metadata": {
        "id": "rRIFUpj32KEV",
        "outputId": "7c178966-0489-435c-f0c9-72054abca49d"
      },
      "outputs": [
        {
          "name": "stdout",
          "output_type": "stream",
          "text": [
            "2\n",
            "4\n",
            "6\n",
            "8\n",
            "10\n",
            "12\n",
            "14\n",
            "16\n",
            "18\n",
            "20\n",
            "\n"
          ]
        }
      ],
      "source": [
        "f1=open(\"C:\\\\Users\\lenovo\\OneDrive\\Desktop\\even.txt\",\"r\")\n",
        "print(f1.read())\n",
        "f1.close()"
      ]
    },
    {
      "cell_type": "code",
      "execution_count": null,
      "metadata": {
        "id": "z9y2NRdF2KEV",
        "outputId": "2ec6552a-43fc-4e90-af8d-f4aa152780bb"
      },
      "outputs": [
        {
          "name": "stdout",
          "output_type": "stream",
          "text": [
            "1\n",
            "3\n",
            "5\n",
            "7\n",
            "9\n",
            "11\n",
            "13\n",
            "15\n",
            "17\n",
            "19\n",
            "\n"
          ]
        }
      ],
      "source": [
        "f2=open(\"C:\\\\Users\\lenovo\\OneDrive\\Desktop\\odd.txt\",\"r\")\n",
        "print(f2.read())\n",
        "f2.close()"
      ]
    },
    {
      "cell_type": "markdown",
      "metadata": {
        "id": "LXgtDP1P2KEW"
      },
      "source": [
        "## Count characters, words and lines in a text file.\n"
      ]
    },
    {
      "cell_type": "code",
      "execution_count": null,
      "metadata": {
        "id": "Y1Ofjocv2KEW",
        "outputId": "e34ffd11-74fa-4133-a49e-506e7ce93aa0"
      },
      "outputs": [
        {
          "name": "stdout",
          "output_type": "stream",
          "text": [
            "3 17 89\n"
          ]
        }
      ],
      "source": [
        "nani=open(\"C:\\\\Users\\lenovo\\OneDrive\\Desktop\\hello.txt\")\n",
        "line=0\n",
        "word=0\n",
        "charac=0\n",
        "for x in nani:\n",
        "    line=line+1\n",
        "    h=x.split()\n",
        "    word=word+len(h)\n",
        "    charac=charac+len(x)\n",
        "print(line,word,charac)    \n"
      ]
    },
    {
      "cell_type": "markdown",
      "metadata": {
        "id": "Jw5yF59w2KEX"
      },
      "source": [
        "## To write a list to a file.\n"
      ]
    },
    {
      "cell_type": "code",
      "execution_count": null,
      "metadata": {
        "id": "QexidBSF2KEX",
        "outputId": "b3207bdd-be61-4762-e861-6d9450de6960"
      },
      "outputs": [
        {
          "name": "stdout",
          "output_type": "stream",
          "text": [
            "5\n",
            "8\n",
            "4\n",
            "7\n"
          ]
        }
      ],
      "source": [
        "pradeep=[\"heloo\",\"good bye\",\"tata\",\"see you\"]\n",
        "for x in pradeep:\n",
        "    f=open(\"C:\\\\Users\\lenovo\\OneDrive\\Desktop\\list.txt\",\"a\")\n",
        "    print(f.write(x))\n",
        "    f.close()"
      ]
    },
    {
      "cell_type": "code",
      "execution_count": null,
      "metadata": {
        "id": "JhuhLGvn2KEY",
        "outputId": "400c0c6b-987f-4a17-992a-b2fca44bc66a"
      },
      "outputs": [
        {
          "name": "stdout",
          "output_type": "stream",
          "text": [
            "heloogood byetatasee you\n"
          ]
        }
      ],
      "source": [
        "f=open(\"C:\\\\Users\\lenovo\\OneDrive\\Desktop\\list.txt\",\"r\")\n",
        "print(f.read())\n",
        "f.close()"
      ]
    },
    {
      "cell_type": "markdown",
      "metadata": {
        "id": "HTb8FTp12KEY"
      },
      "source": [
        "## Given a CSV file or excel file to read it into a dataframe and display it."
      ]
    },
    {
      "cell_type": "code",
      "execution_count": null,
      "metadata": {
        "id": "N8of-jHS2KEY",
        "outputId": "1fb532b6-d88d-4b00-c512-37098591e4c1"
      },
      "outputs": [
        {
          "name": "stdout",
          "output_type": "stream",
          "text": [
            "   S no         Name  Age  Gender       DOB                  Address  grade\n",
            "0     1      Pradeep   18    male  17-12-04          mvp colon,vizag   9.33\n",
            "1     2     Hemakesh   18    male  03-03-04           Gajuwaka,Vizag   8.17\n",
            "2     3        Mohan   19    male  14-05-03                   kadapa   9.44\n",
            "3     4      Sankalp   19    male  15-06-02                hyderabad   8.90\n",
            "4     5  Subramanyam   18    male  21-12-03                   nelore   8.37\n",
            "5     6        Rishi   18    male  12-04-03              chhatisgarh   9.78\n",
            "6     7        Akash   18    male  21-06-03  visalakshi nagar, vizag   7.33\n",
            "7     8    Prashanth   18    male  14-07-03      kukatpally,hyderaad   8.90\n",
            "8     9     Harshini   18  female  15-08-03                    vizag   8.50\n",
            "9    10      Jahnavi   19  female  12-01-03          Asilmetta,vizag   9.50\n"
          ]
        }
      ],
      "source": [
        "import pandas as pd\n",
        "p=pd.read_csv('C:\\\\Users\\lenovo\\OneDrive\\Desktop\\grade.csv')\n",
        "h=pd.DataFrame(p)\n",
        "print(h)"
      ]
    },
    {
      "cell_type": "markdown",
      "metadata": {
        "id": "S9sbMryP2KEZ"
      },
      "source": [
        "## Given a dataframe, select rows based on a condition"
      ]
    },
    {
      "cell_type": "code",
      "execution_count": null,
      "metadata": {
        "id": "LW56atBH2KEZ",
        "outputId": "b7165ea5-214b-4410-b061-6c7ae57e9f7a"
      },
      "outputs": [
        {
          "name": "stdout",
          "output_type": "stream",
          "text": [
            "   S no     Name  Age  Gender       DOB          Address  grade\n",
            "0     1  Pradeep   18    male  17-12-04  mvp colon,vizag   9.33\n",
            "2     3    Mohan   19    male  14-05-03           kadapa   9.44\n",
            "5     6    Rishi   18    male  12-04-03      chhatisgarh   9.78\n",
            "9    10  Jahnavi   19  female  12-01-03  Asilmetta,vizag   9.50\n"
          ]
        }
      ],
      "source": [
        "m=h.loc[h['grade']>9]\n",
        "print(m)"
      ]
    },
    {
      "cell_type": "markdown",
      "metadata": {
        "id": "7MrloRD92KEZ"
      },
      "source": [
        "\n",
        "#Given is a dataframe showing the name, occupation, salary of people. Find the average salary per occupation."
      ]
    },
    {
      "cell_type": "code",
      "execution_count": null,
      "metadata": {
        "id": "yOY8ZP4y2KEZ",
        "outputId": "d1ed8762-0de7-4359-cd39-68de1cc534b7"
      },
      "outputs": [
        {
          "name": "stdout",
          "output_type": "stream",
          "text": [
            "     Name             Occupation  Salary\n",
            "0    Ravi      Software engineer   70000\n",
            "1  Suresh               Mechanic   10000\n",
            "2  Ramesh                 doctor   80000\n",
            "3  Kamesh                 doctor  150000\n",
            "4   Surya        Project manager  200000\n",
            "5  vikram                 doctor   60000\n",
            "6   vijay  Aeronautical engineer   50000\n",
            "7  Charan      Software engineer  100000\n",
            "Occupation\n",
            "Aeronautical engineer     50000.000000\n",
            "Mechanic                  10000.000000\n",
            "Project manager          200000.000000\n",
            "Software engineer         85000.000000\n",
            "doctor                    96666.666667\n",
            "Name: Salary, dtype: float64\n"
          ]
        }
      ],
      "source": [
        "import pandas as pd\n",
        "p=pd.read_csv('C:\\\\Users\\lenovo\\OneDrive\\Desktop\\occupation.csv')\n",
        "print(p)\n",
        "avg=p.groupby('Occupation')['Salary'].mean()\n",
        "print(avg)"
      ]
    },
    {
      "cell_type": "markdown",
      "metadata": {
        "id": "QMURoIZy2KEa"
      },
      "source": [
        "## To convert Python objects into JSON strings. Print all the values"
      ]
    },
    {
      "cell_type": "code",
      "execution_count": null,
      "metadata": {
        "id": "mc9d7RJI2KEa",
        "outputId": "8d966bc1-d49f-4268-8f53-cdd8a3585091"
      },
      "outputs": [
        {
          "name": "stdout",
          "output_type": "stream",
          "text": [
            "{\"movie\": \"kgf2\", \"Hero\": \"Yash\", \"director\": \"neel\", \"Dialogue\": \"voilence voilence voilence\"}\n"
          ]
        }
      ],
      "source": [
        "import json\n",
        "pradeep={\n",
        "    \"movie\":\"kgf2\",\n",
        "    \"Hero\":\"Yash\",\n",
        "    \"director\":\"neel\",\n",
        "    \"Dialogue\":\"voilence voilence voilence\"\n",
        "}\n",
        "nani=json.dumps(pradeep)\n",
        "print(nani)"
      ]
    },
    {
      "cell_type": "markdown",
      "metadata": {
        "id": "FE_q5fvr2KEa"
      },
      "source": [
        "## Write a Pandas program to read specific columns from a given excel file. "
      ]
    },
    {
      "cell_type": "code",
      "execution_count": null,
      "metadata": {
        "id": "tzQRk6bQ2KEa",
        "outputId": "1746eef9-071f-4365-d8d8-bcbd04d63f73"
      },
      "outputs": [
        {
          "name": "stdout",
          "output_type": "stream",
          "text": [
            "          Name  Gender                  Address\n",
            "0      Pradeep    male          mvp colon,vizag\n",
            "1     Hemakesh    male           Gajuwaka,Vizag\n",
            "2        Mohan    male                   kadapa\n",
            "3      Sankalp    male                hyderabad\n",
            "4  Subramanyam    male                   nelore\n",
            "5        Rishi    male              chhatisgarh\n",
            "6        Akash    male  visalakshi nagar, vizag\n",
            "7    Prashanth    male      kukatpally,hyderaad\n",
            "8     Harshini  female                    vizag\n",
            "9      Jahnavi  female          Asilmetta,vizag\n"
          ]
        }
      ],
      "source": [
        "import pandas as pd\n",
        "cols=[1,3,5]\n",
        "p=pd.read_csv('C:\\\\Users\\lenovo\\OneDrive\\Desktop\\grade.csv',usecols=cols)\n",
        "print(p)"
      ]
    }
  ],
  "metadata": {
    "interpreter": {
      "hash": "5c41cc7a6bf458ae2af5583a7906ef5f402c759b4882f3cbfc8ede19b81b2d2f"
    },
    "kernelspec": {
      "display_name": "Python 3.10.4 64-bit (windows store)",
      "language": "python",
      "name": "python3"
    },
    "language_info": {
      "codemirror_mode": {
        "name": "ipython",
        "version": 3
      },
      "file_extension": ".py",
      "mimetype": "text/x-python",
      "name": "python",
      "nbconvert_exporter": "python",
      "pygments_lexer": "ipython3",
      "version": "3.10.4"
    },
    "orig_nbformat": 4,
    "colab": {
      "name": "module 3 python.ipynb",
      "provenance": [],
      "include_colab_link": true
    }
  },
  "nbformat": 4,
  "nbformat_minor": 0
}